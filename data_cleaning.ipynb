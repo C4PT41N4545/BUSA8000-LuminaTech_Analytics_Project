{
 "cells": [
  {
   "cell_type": "code",
   "execution_count": 1,
   "metadata": {},
   "outputs": [],
   "source": [
    "# import lib\n",
    "import numpy as np\n",
    "import pandas as pd\n",
    "from matplotlib import pyplot as plt \n",
    "import seaborn as sns\n",
    "import warnings\n",
    "warnings.filterwarnings('ignore')"
   ]
  },
  {
   "cell_type": "code",
   "execution_count": 2,
   "metadata": {},
   "outputs": [],
   "source": [
    "df_2012 = pd.read_csv('2012_Data.csv', encoding='latin1', low_memory=False)\n",
    "df_2013 = pd.read_csv('2013_Data.csv', encoding='latin1', low_memory=False)"
   ]
  },
  {
   "cell_type": "code",
   "execution_count": 3,
   "metadata": {},
   "outputs": [
    {
     "name": "stdout",
     "output_type": "stream",
     "text": [
      "<class 'pandas.core.frame.DataFrame'>\n",
      "RangeIndex: 1988382 entries, 0 to 1988381\n",
      "Data columns (total 41 columns):\n",
      " #   Column                    Dtype  \n",
      "---  ------                    -----  \n",
      " 0   accounting_date           int64  \n",
      " 1   fiscal_year               int64  \n",
      " 2   fiscal_month              int64  \n",
      " 3   calendar_year             int64  \n",
      " 4   calendar_month            int64  \n",
      " 5   calendar_day              int64  \n",
      " 6   company_code              int64  \n",
      " 7   customer_code             object \n",
      " 8   customer_district_code    int64  \n",
      " 9   item_code                 object \n",
      " 10  business_area_code        object \n",
      " 11  item_group_code           object \n",
      " 12  item_class_code           object \n",
      " 13  item_type                 int64  \n",
      " 14  bonus_group_code          object \n",
      " 15  environment_group_code    object \n",
      " 16  technology_group_code     object \n",
      " 17  commission_group_code     object \n",
      " 18  reporting_classification  object \n",
      " 19  light_source              object \n",
      " 20  warehouse_code            object \n",
      " 21  abc_class_code            object \n",
      " 22  abc_class_volume          object \n",
      " 23  business_chain_l1_code    object \n",
      " 24  business_chain_l1_name    object \n",
      " 25  contact_method_code       object \n",
      " 26  salesperson_code          object \n",
      " 27  order_type_code           object \n",
      " 28  market_segment            object \n",
      " 29  value_sales               float64\n",
      " 30  value_cost                float64\n",
      " 31  value_quantity            float64\n",
      " 32  value_price_adjustment    int64  \n",
      " 33  currency                  object \n",
      " 34  item_source_class         float64\n",
      " 35  invoice_number            int64  \n",
      " 36  line_number               int64  \n",
      " 37  invoice_date              int64  \n",
      " 38  customer_order_number     object \n",
      " 39  order_date                int64  \n",
      " 40  dss_update_time           object \n",
      "dtypes: float64(4), int64(14), object(23)\n",
      "memory usage: 622.0+ MB\n"
     ]
    }
   ],
   "source": [
    "# Concatenate the two DataFrames\n",
    "merged_data = pd.concat([df_2012, df_2013], ignore_index=True)\n",
    "\n",
    "# Display the first few rows of the merged data\n",
    "merged_data.info()"
   ]
  },
  {
   "cell_type": "markdown",
   "metadata": {},
   "source": [
    "# Data Cleaning"
   ]
  },
  {
   "cell_type": "markdown",
   "metadata": {},
   "source": [
    "1. Handling Missing Values\n",
    "- Identifying Missing Data: Determine where missing values occur and why (e.g., data entry errors, collection issues).\n",
    "- Strategies for Handling Missing Data:\n",
    "    - Removal: Drop rows or columns with excessive missing values if they don’t significantly affect the analysis.\n",
    "    - Imputation: Replace missing values using techniques like mean, median, mode, or more sophisticated methods (e.g., regression or k-nearest neighbors).\n",
    "2. Correcting Inconsistent Data\n",
    "- Fix inconsistencies in data entries (e.g., different formats for the same value, such as \"USA\" and \"United States\").\n",
    "- Standardize formats for dates, phone numbers, and other data types.\n",
    "3. Removing Duplicates\n",
    "- Identify and remove duplicate records, which can skew analysis results and lead to incorrect conclusions.\n",
    "4. Handling Outliers\n",
    "- Outliers can distort analysis, especially in statistical modeling. Identify them using visualization techniques (e.g., boxplots).\n",
    "- Decide whether to remove, transform, or keep outliers based on the context and goals of the analysis.\n",
    "5. Data Type Conversion\n",
    "- Ensure that each column has the appropriate data type (e.g., numeric, categorical, datetime).\n",
    "- Convert data types if needed (e.g., parsing date strings into datetime objects).\n",
    "6. Normalization and Scaling\n",
    "- Normalization: Rescale numerical data to fit within a particular range, often [0, 1].\n",
    "- Standardization: Adjust the data to have a mean of zero and a standard deviation of one, which is important for certain machine learning algorithms.\n",
    "7. Handling Categorical Variables\n",
    "- Convert categorical variables to numeric form if required for analysis (e.g., one-hot encoding).\n",
    "- Combine similar categories to reduce complexity (e.g., grouping rare categories together).\n",
    "8. Feature Engineering\n",
    "- Creating New Features: Generate new variables based on existing ones to capture additional insights.\n",
    "- Dropping Irrelevant Features: Remove features that do not add value or are highly correlated, to avoid multicollinearity.\n",
    "9. Text Cleaning (for Textual Data)\n",
    "- For textual data, cleaning involves removing punctuation, converting to lowercase, removing stopwords, and stemming or lemmatizing words to bring them to their root form."
   ]
  },
  {
   "cell_type": "markdown",
   "metadata": {},
   "source": [
    "## 1. Handling Missing Values\n",
    "- Identifying Missing Data: Determine where missing values occur and why (e.g., data entry errors, collection issues).\n",
    "- Strategies for Handling Missing Data:\n",
    "    - Removal: Drop rows or columns with excessive missing values if they don’t significantly affect the analysis.\n",
    "    - Imputation: Replace missing values using techniques like mean, median, mode, or more sophisticated methods (e.g., regression or k-nearest neighbors)."
   ]
  },
  {
   "cell_type": "code",
   "execution_count": 7,
   "metadata": {},
   "outputs": [
    {
     "data": {
      "text/plain": [
       "(1988382, 41)"
      ]
     },
     "execution_count": 7,
     "metadata": {},
     "output_type": "execute_result"
    }
   ],
   "source": [
    "# check the length of data and rows.\n",
    "merged_data.shape"
   ]
  },
  {
   "cell_type": "code",
   "execution_count": 8,
   "metadata": {},
   "outputs": [
    {
     "data": {
      "text/plain": [
       "accounting_date                   0\n",
       "fiscal_year                       0\n",
       "fiscal_month                      0\n",
       "calendar_year                     0\n",
       "calendar_month                    0\n",
       "calendar_day                      0\n",
       "company_code                      0\n",
       "customer_code                     0\n",
       "customer_district_code            0\n",
       "item_code                         0\n",
       "business_area_code                0\n",
       "item_group_code                   0\n",
       "item_class_code                   0\n",
       "item_type                         0\n",
       "bonus_group_code                  0\n",
       "environment_group_code            0\n",
       "technology_group_code             0\n",
       "commission_group_code             0\n",
       "reporting_classification          0\n",
       "light_source                      0\n",
       "warehouse_code                    0\n",
       "abc_class_code                    0\n",
       "abc_class_volume                  0\n",
       "business_chain_l1_code            0\n",
       "business_chain_l1_name            0\n",
       "contact_method_code               0\n",
       "salesperson_code                  0\n",
       "order_type_code                   0\n",
       "market_segment                    0\n",
       "value_sales                       0\n",
       "value_cost                        0\n",
       "value_quantity                    0\n",
       "value_price_adjustment            0\n",
       "currency                          0\n",
       "item_source_class           1988382\n",
       "invoice_number                    0\n",
       "line_number                       0\n",
       "invoice_date                      0\n",
       "customer_order_number             0\n",
       "order_date                        0\n",
       "dss_update_time                   0\n",
       "dtype: int64"
      ]
     },
     "execution_count": 8,
     "metadata": {},
     "output_type": "execute_result"
    }
   ],
   "source": [
    "# indentifying the null values.\n",
    "merged_data.isnull().sum()"
   ]
  },
  {
   "cell_type": "markdown",
   "metadata": {},
   "source": [
    "The null values are shown in column 'item_source_class', which is 1,988,382, the same as the normal data length. This means this column does not use, so we decided to remove  it."
   ]
  },
  {
   "cell_type": "code",
   "execution_count": 10,
   "metadata": {},
   "outputs": [],
   "source": [
    "# remove null values.\n",
    "merged_data.drop('item_source_class', axis=1, inplace=True)"
   ]
  },
  {
   "cell_type": "code",
   "execution_count": 11,
   "metadata": {},
   "outputs": [
    {
     "data": {
      "text/plain": [
       "accounting_date             0\n",
       "fiscal_year                 0\n",
       "fiscal_month                0\n",
       "calendar_year               0\n",
       "calendar_month              0\n",
       "calendar_day                0\n",
       "company_code                0\n",
       "customer_code               0\n",
       "customer_district_code      0\n",
       "item_code                   0\n",
       "business_area_code          0\n",
       "item_group_code             0\n",
       "item_class_code             0\n",
       "item_type                   0\n",
       "bonus_group_code            0\n",
       "environment_group_code      0\n",
       "technology_group_code       0\n",
       "commission_group_code       0\n",
       "reporting_classification    0\n",
       "light_source                0\n",
       "warehouse_code              0\n",
       "abc_class_code              0\n",
       "abc_class_volume            0\n",
       "business_chain_l1_code      0\n",
       "business_chain_l1_name      0\n",
       "contact_method_code         0\n",
       "salesperson_code            0\n",
       "order_type_code             0\n",
       "market_segment              0\n",
       "value_sales                 0\n",
       "value_cost                  0\n",
       "value_quantity              0\n",
       "value_price_adjustment      0\n",
       "currency                    0\n",
       "invoice_number              0\n",
       "line_number                 0\n",
       "invoice_date                0\n",
       "customer_order_number       0\n",
       "order_date                  0\n",
       "dss_update_time             0\n",
       "dtype: int64"
      ]
     },
     "execution_count": 11,
     "metadata": {},
     "output_type": "execute_result"
    }
   ],
   "source": [
    "# recheck null value after remove\n",
    "merged_data.isnull().sum()"
   ]
  },
  {
   "cell_type": "markdown",
   "metadata": {},
   "source": [
    "We expected that each row in each column would be unique, as each row represents a specific order item from a customer. If there are duplicate rows in any column, it could indicate an issue with data accuracy."
   ]
  },
  {
   "cell_type": "code",
   "execution_count": 13,
   "metadata": {},
   "outputs": [
    {
     "data": {
      "text/plain": [
       "(1988382, 40)"
      ]
     },
     "execution_count": 13,
     "metadata": {},
     "output_type": "execute_result"
    }
   ],
   "source": [
    "# check the length of data and rows.\n",
    "merged_data.shape"
   ]
  },
  {
   "cell_type": "markdown",
   "metadata": {},
   "source": [
    "## 2. Correcting Inconsistent Data\n",
    "- Fix inconsistencies in data entries (e.g., different formats for the same value, such as \"USA\" and \"United States\").\n",
    "- Standardize formats for dates, phone numbers, and other data types."
   ]
  },
  {
   "cell_type": "markdown",
   "metadata": {},
   "source": [
    "First, we want to check whether the accounting date, fiscal year, and calendar year are consistent. However, the accounting date is not in the same standardised format as the others, so we will convert it to match the same format before checking consistency."
   ]
  },
  {
   "cell_type": "code",
   "execution_count": 16,
   "metadata": {},
   "outputs": [
    {
     "data": {
      "text/html": [
       "<div>\n",
       "<style scoped>\n",
       "    .dataframe tbody tr th:only-of-type {\n",
       "        vertical-align: middle;\n",
       "    }\n",
       "\n",
       "    .dataframe tbody tr th {\n",
       "        vertical-align: top;\n",
       "    }\n",
       "\n",
       "    .dataframe thead th {\n",
       "        text-align: right;\n",
       "    }\n",
       "</style>\n",
       "<table border=\"1\" class=\"dataframe\">\n",
       "  <thead>\n",
       "    <tr style=\"text-align: right;\">\n",
       "      <th></th>\n",
       "      <th>accounting_date</th>\n",
       "      <th>fiscal_year</th>\n",
       "      <th>fiscal_month</th>\n",
       "      <th>calendar_year</th>\n",
       "      <th>calendar_month</th>\n",
       "      <th>calendar_day</th>\n",
       "      <th>company_code</th>\n",
       "      <th>customer_code</th>\n",
       "      <th>customer_district_code</th>\n",
       "      <th>item_code</th>\n",
       "      <th>...</th>\n",
       "      <th>currency</th>\n",
       "      <th>invoice_number</th>\n",
       "      <th>line_number</th>\n",
       "      <th>invoice_date</th>\n",
       "      <th>customer_order_number</th>\n",
       "      <th>order_date</th>\n",
       "      <th>dss_update_time</th>\n",
       "      <th>accounting_year</th>\n",
       "      <th>accounting_month</th>\n",
       "      <th>accounting_day</th>\n",
       "    </tr>\n",
       "  </thead>\n",
       "  <tbody>\n",
       "    <tr>\n",
       "      <th>0</th>\n",
       "      <td>2012-05-09</td>\n",
       "      <td>2012</td>\n",
       "      <td>11</td>\n",
       "      <td>2012</td>\n",
       "      <td>5</td>\n",
       "      <td>9</td>\n",
       "      <td>101</td>\n",
       "      <td>411800601</td>\n",
       "      <td>410</td>\n",
       "      <td>GENIE8WWWBC</td>\n",
       "      <td>...</td>\n",
       "      <td>AUD</td>\n",
       "      <td>2217887</td>\n",
       "      <td>1</td>\n",
       "      <td>20120509</td>\n",
       "      <td>2865354</td>\n",
       "      <td>20120509</td>\n",
       "      <td>49:58.7</td>\n",
       "      <td>2012</td>\n",
       "      <td>5</td>\n",
       "      <td>9</td>\n",
       "    </tr>\n",
       "    <tr>\n",
       "      <th>1</th>\n",
       "      <td>2012-02-16</td>\n",
       "      <td>2012</td>\n",
       "      <td>8</td>\n",
       "      <td>2012</td>\n",
       "      <td>2</td>\n",
       "      <td>16</td>\n",
       "      <td>101</td>\n",
       "      <td>361000403</td>\n",
       "      <td>300</td>\n",
       "      <td>GENIE8WWWBC</td>\n",
       "      <td>...</td>\n",
       "      <td>AUD</td>\n",
       "      <td>2185745</td>\n",
       "      <td>1</td>\n",
       "      <td>20120216</td>\n",
       "      <td>2833515</td>\n",
       "      <td>20120216</td>\n",
       "      <td>49:58.7</td>\n",
       "      <td>2012</td>\n",
       "      <td>2</td>\n",
       "      <td>16</td>\n",
       "    </tr>\n",
       "    <tr>\n",
       "      <th>2</th>\n",
       "      <td>2012-05-09</td>\n",
       "      <td>2012</td>\n",
       "      <td>11</td>\n",
       "      <td>2012</td>\n",
       "      <td>5</td>\n",
       "      <td>9</td>\n",
       "      <td>101</td>\n",
       "      <td>361000403</td>\n",
       "      <td>300</td>\n",
       "      <td>GENIE8WWWBC</td>\n",
       "      <td>...</td>\n",
       "      <td>AUD</td>\n",
       "      <td>2217807</td>\n",
       "      <td>1</td>\n",
       "      <td>20120509</td>\n",
       "      <td>2864857</td>\n",
       "      <td>20120508</td>\n",
       "      <td>49:58.7</td>\n",
       "      <td>2012</td>\n",
       "      <td>5</td>\n",
       "      <td>9</td>\n",
       "    </tr>\n",
       "    <tr>\n",
       "      <th>3</th>\n",
       "      <td>2012-05-18</td>\n",
       "      <td>2012</td>\n",
       "      <td>11</td>\n",
       "      <td>2012</td>\n",
       "      <td>5</td>\n",
       "      <td>18</td>\n",
       "      <td>101</td>\n",
       "      <td>565540415</td>\n",
       "      <td>500</td>\n",
       "      <td>GENIE8WWWBC</td>\n",
       "      <td>...</td>\n",
       "      <td>AUD</td>\n",
       "      <td>2222758</td>\n",
       "      <td>1</td>\n",
       "      <td>20120518</td>\n",
       "      <td>2869759</td>\n",
       "      <td>20120518</td>\n",
       "      <td>49:58.7</td>\n",
       "      <td>2012</td>\n",
       "      <td>5</td>\n",
       "      <td>18</td>\n",
       "    </tr>\n",
       "    <tr>\n",
       "      <th>4</th>\n",
       "      <td>2012-01-09</td>\n",
       "      <td>2012</td>\n",
       "      <td>7</td>\n",
       "      <td>2012</td>\n",
       "      <td>1</td>\n",
       "      <td>9</td>\n",
       "      <td>101</td>\n",
       "      <td>565540415</td>\n",
       "      <td>500</td>\n",
       "      <td>GENIE8WWWBC</td>\n",
       "      <td>...</td>\n",
       "      <td>AUD</td>\n",
       "      <td>2170374</td>\n",
       "      <td>1</td>\n",
       "      <td>20120109</td>\n",
       "      <td>2819189</td>\n",
       "      <td>20120109</td>\n",
       "      <td>49:58.7</td>\n",
       "      <td>2012</td>\n",
       "      <td>1</td>\n",
       "      <td>9</td>\n",
       "    </tr>\n",
       "  </tbody>\n",
       "</table>\n",
       "<p>5 rows × 43 columns</p>\n",
       "</div>"
      ],
      "text/plain": [
       "  accounting_date  fiscal_year  fiscal_month  calendar_year  calendar_month  \\\n",
       "0      2012-05-09         2012            11           2012               5   \n",
       "1      2012-02-16         2012             8           2012               2   \n",
       "2      2012-05-09         2012            11           2012               5   \n",
       "3      2012-05-18         2012            11           2012               5   \n",
       "4      2012-01-09         2012             7           2012               1   \n",
       "\n",
       "   calendar_day  company_code customer_code  customer_district_code  \\\n",
       "0             9           101     411800601                     410   \n",
       "1            16           101     361000403                     300   \n",
       "2             9           101     361000403                     300   \n",
       "3            18           101     565540415                     500   \n",
       "4             9           101     565540415                     500   \n",
       "\n",
       "                        item_code  ... currency invoice_number line_number  \\\n",
       "0  GENIE8WWWBC                     ...      AUD        2217887           1   \n",
       "1  GENIE8WWWBC                     ...      AUD        2185745           1   \n",
       "2  GENIE8WWWBC                     ...      AUD        2217807           1   \n",
       "3  GENIE8WWWBC                     ...      AUD        2222758           1   \n",
       "4  GENIE8WWWBC                     ...      AUD        2170374           1   \n",
       "\n",
       "   invoice_date customer_order_number order_date dss_update_time  \\\n",
       "0      20120509               2865354   20120509         49:58.7   \n",
       "1      20120216               2833515   20120216         49:58.7   \n",
       "2      20120509               2864857   20120508         49:58.7   \n",
       "3      20120518               2869759   20120518         49:58.7   \n",
       "4      20120109               2819189   20120109         49:58.7   \n",
       "\n",
       "  accounting_year accounting_month accounting_day  \n",
       "0            2012                5              9  \n",
       "1            2012                2             16  \n",
       "2            2012                5              9  \n",
       "3            2012                5             18  \n",
       "4            2012                1              9  \n",
       "\n",
       "[5 rows x 43 columns]"
      ]
     },
     "execution_count": 16,
     "metadata": {},
     "output_type": "execute_result"
    }
   ],
   "source": [
    "# Convert 'accounting_date' to datetime format\n",
    "merged_data['accounting_date'] = pd.to_datetime(merged_data['accounting_date'], format='%Y%m%d')\n",
    "\n",
    "# Create separate columns for year, month, and day from the datetime object\n",
    "merged_data['accounting_year'] = merged_data['accounting_date'].dt.year\n",
    "merged_data['accounting_month'] = merged_data['accounting_date'].dt.month\n",
    "merged_data['accounting_day'] = merged_data['accounting_date'].dt.day\n",
    "\n",
    "# Display the first few rows to verify the results\n",
    "merged_data.head()"
   ]
  },
  {
   "cell_type": "markdown",
   "metadata": {},
   "source": [
    "Now, there are new columns: 'accounting_year', 'accounting_month', and 'accounting_day'. We will use these columns to check for consistency."
   ]
  },
  {
   "cell_type": "code",
   "execution_count": 18,
   "metadata": {},
   "outputs": [
    {
     "name": "stdout",
     "output_type": "stream",
     "text": [
      "Calendar Year: [2012, 2013]\n",
      "Calendar Month: [1, 2, 3, 4, 5, 6, 7, 8, 9, 10, 11, 12]\n",
      "Calendar Day: [1, 2, 3, 4, 5, 6, 7, 8, 9, 10, 11, 12, 13, 14, 15, 16, 17, 18, 19, 20, 21, 22, 23, 24, 25, 26, 27, 28, 29, 30, 31]\n",
      "\n",
      "\n",
      "Accounting Year: [2012, 2013]\n",
      "Accounting Month: [1, 2, 3, 4, 5, 6, 7, 8, 9, 10, 11, 12]\n",
      "Accounting Day: [1, 2, 3, 4, 5, 6, 7, 8, 9, 10, 11, 12, 13, 14, 15, 16, 17, 18, 19, 20, 21, 22, 23, 24, 25, 26, 27, 28, 29, 30, 31]\n"
     ]
    }
   ],
   "source": [
    "# Sort and print unique values in ascending order for calendar year, month, and day\n",
    "print(\"Calendar Year:\", sorted(merged_data['calendar_year'].unique()))\n",
    "print(\"Calendar Month:\", sorted(merged_data['calendar_month'].unique()))\n",
    "print(\"Calendar Day:\", sorted(merged_data['calendar_day'].unique()))\n",
    "\n",
    "print(\"\\n\")\n",
    "\n",
    "# Sort and print unique values in ascending order for accounting year, month, and day\n",
    "print(\"Accounting Year:\", sorted(merged_data['accounting_year'].unique()))\n",
    "print(\"Accounting Month:\", sorted(merged_data['accounting_month'].unique()))\n",
    "print(\"Accounting Day:\", sorted(merged_data['accounting_day'].unique()))\n"
   ]
  },
  {
   "cell_type": "markdown",
   "metadata": {},
   "source": [
    "The results show that the calendar column and the accounting column are consistent. Next, we will check the consistency between the fiscal column and the calendar column."
   ]
  },
  {
   "cell_type": "code",
   "execution_count": 20,
   "metadata": {},
   "outputs": [
    {
     "name": "stdout",
     "output_type": "stream",
     "text": [
      "Calendar Year: [2012, 2013]\n",
      "Calendar Month: [1, 2, 3, 4, 5, 6, 7, 8, 9, 10, 11, 12]\n",
      "\n",
      "\n",
      "Fisical Year: [2012, 2013, 2014]\n",
      "Fisical Month: [1, 2, 3, 4, 5, 6, 7, 8, 9, 10, 11, 12]\n"
     ]
    }
   ],
   "source": [
    "# Sort and print unique values in ascending order for calendar year and month\n",
    "print(\"Calendar Year:\", sorted(merged_data['calendar_year'].unique()))\n",
    "print(\"Calendar Month:\", sorted(merged_data['calendar_month'].unique()))\n",
    "\n",
    "print(\"\\n\")\n",
    "\n",
    "# Sort and print unique values in ascending order for fiscal year and month\n",
    "print(\"Fisical Year:\", sorted(merged_data['fiscal_year'].unique()))\n",
    "print(\"Fisical Month:\", sorted(merged_data['fiscal_month'].unique()))\n"
   ]
  },
  {
   "cell_type": "markdown",
   "metadata": {},
   "source": [
    "We observed that the fiscal year and month had unique patterns compared to others. Therefore, we examined the number of months within each fiscal year and identified the specific months for each year."
   ]
  },
  {
   "cell_type": "code",
   "execution_count": 22,
   "metadata": {},
   "outputs": [
    {
     "name": "stdout",
     "output_type": "stream",
     "text": [
      "fiscal_year\n",
      "2012                      [7, 8, 9, 10, 11, 12]\n",
      "2013    [1, 2, 3, 4, 5, 6, 7, 8, 9, 10, 11, 12]\n",
      "2014                         [1, 2, 3, 4, 5, 6]\n",
      "Name: fiscal_month, dtype: object\n"
     ]
    }
   ],
   "source": [
    "# Group by 'fiscal_year' and list all unique 'fiscal_month' for each year\n",
    "fiscal_months_per_year = merged_data.groupby('fiscal_year')['fiscal_month'].apply(lambda x: sorted(x.unique()))\n",
    "\n",
    "# Display the result\n",
    "print(fiscal_months_per_year)"
   ]
  },
  {
   "cell_type": "markdown",
   "metadata": {},
   "source": [
    "Upon review, we found that the fiscal year follows the financial calendar in Australia. This means that the fiscal year 2012 includes July to December 2012 and January to June 2013, while the fiscal year 2013 includes July to December 2013 and January to June 2014. In summary, the fiscal year is the same as the calendar and accounting year."
   ]
  },
  {
   "cell_type": "markdown",
   "metadata": {},
   "source": [
    "In the next step, we decided to fix inconsistencies in data entries for the following columns: 'order_type_code', 'abc_class_volume', 'abc_class_code', 'warehouse_code', 'environment_group_code', 'business_area_code', 'customer_district_code', and 'technology_group_code'."
   ]
  },
  {
   "cell_type": "markdown",
   "metadata": {},
   "source": [
    "- **order_type_code**"
   ]
  },
  {
   "cell_type": "code",
   "execution_count": 26,
   "metadata": {},
   "outputs": [
    {
     "name": "stdout",
     "output_type": "stream",
     "text": [
      "['NOR' 'EDI' 'CDG' 'PRO' 'NOS' 'CRR' 'EXP' 'EDS' 'CSH' 'PRD' 'CRD' 'NOH'\n",
      " 'COP' 'OBS' 'MIN' 'COA' 'PSA' 'PPD' 'WDC' 'PMO' 'CPR' 'CRP' 'PM0' 'PGS'\n",
      " 'SPL' 'AES' 'ZCG' 'ZCR' 'SPC' 'ZOP' 'ZC2' '5TN' 'PUP' 'PPO' 'ZD3' 'CSO'\n",
      " 'PME']\n"
     ]
    }
   ],
   "source": [
    "# Check unique order type\n",
    "print(merged_data['order_type_code'].unique())"
   ]
  },
  {
   "cell_type": "markdown",
   "metadata": {},
   "source": [
    "It shows that 'PME' does not have any list in our document, so we check how many rows show 'PME'"
   ]
  },
  {
   "cell_type": "code",
   "execution_count": 28,
   "metadata": {},
   "outputs": [
    {
     "name": "stdout",
     "output_type": "stream",
     "text": [
      "Number of rows with 'order_type_code' as 'PME': 243\n"
     ]
    }
   ],
   "source": [
    "# Filter the DataFrame for rows where 'order_type_code' is 'PME'\n",
    "pme_rows = merged_data[merged_data['order_type_code'] == 'PME']\n",
    "\n",
    "# Count the number of rows\n",
    "pme_count = len(pme_rows)\n",
    "\n",
    "# Display the count\n",
    "print(f\"Number of rows with 'order_type_code' as 'PME': {pme_count}\")"
   ]
  },
  {
   "cell_type": "markdown",
   "metadata": {},
   "source": [
    "It resulted in 243 rows, so we decided to drop them."
   ]
  },
  {
   "cell_type": "code",
   "execution_count": 30,
   "metadata": {},
   "outputs": [
    {
     "data": {
      "text/plain": [
       "(1988139, 43)"
      ]
     },
     "execution_count": 30,
     "metadata": {},
     "output_type": "execute_result"
    }
   ],
   "source": [
    "# Drop rows where 'order_type_code' is 'PME'\n",
    "merged_data = merged_data[merged_data['order_type_code'] != 'PME']\n",
    "\n",
    "# Display the first few rows to confirm\n",
    "merged_data.shape"
   ]
  },
  {
   "cell_type": "markdown",
   "metadata": {},
   "source": [
    "- **abc_class_volume**"
   ]
  },
  {
   "cell_type": "code",
   "execution_count": 32,
   "metadata": {},
   "outputs": [
    {
     "name": "stdout",
     "output_type": "stream",
     "text": [
      "['J' 'U' 'D' 'I' 'C' 'E' 'G' 'B' 'A' 'H']\n"
     ]
    }
   ],
   "source": [
    "# Check unique class volume\n",
    "print(merged_data['abc_class_volume'].unique())"
   ]
  },
  {
   "cell_type": "markdown",
   "metadata": {},
   "source": [
    "The results show consistency and a uniform format."
   ]
  },
  {
   "cell_type": "markdown",
   "metadata": {},
   "source": [
    "- **abc_class_code**"
   ]
  },
  {
   "cell_type": "code",
   "execution_count": 35,
   "metadata": {},
   "outputs": [
    {
     "name": "stdout",
     "output_type": "stream",
     "text": [
      "['J' 'B' 'D' 'E' 'C' 'I' 'A' 'F' 'U' 'G']\n"
     ]
    }
   ],
   "source": [
    "# Check unique class code\n",
    "print(merged_data['abc_class_code'].unique())"
   ]
  },
  {
   "cell_type": "markdown",
   "metadata": {},
   "source": [
    "The results show consistency and a uniform format."
   ]
  },
  {
   "cell_type": "markdown",
   "metadata": {},
   "source": [
    "- **warehouse_code**"
   ]
  },
  {
   "cell_type": "code",
   "execution_count": 38,
   "metadata": {},
   "outputs": [
    {
     "name": "stdout",
     "output_type": "stream",
     "text": [
      "['Q1 ' 'V0 ' 'S0 ' 'T0 ' 'Q0 ' 'N0 ' 'KN0' 'W0 ' 'S1 ' 'Unk' 'GS0' 'GN0'\n",
      " 'CN0' 'CQ0' 'CV0' 'GW0' 'CS0' 'CW0' 'GQ0' 'AS0' 'CT0' 'CS1' 'CN1' 'CZ0'\n",
      " 'LW0' 'LQ0' 'LS1' 'LV0' 'LN9' 'LS0' 'FWE' 'EN0' 'FW2' 'JT0' 'FA1' 'FWA'\n",
      " 'FA2' '1N0' '1S0' '5N2' '5V0' '5S0' '5W0' '1V0' '1Q0' '1N1' '1W0' '1Q1'\n",
      " '5Q0' '5T0' '5S1' '5N1' '1T0' '1S1' '5Q1' '1T1' 'BB1' '1N2' '1N3']\n"
     ]
    }
   ],
   "source": [
    "# Check unique warehouse code\n",
    "print(merged_data['warehouse_code'].unique())"
   ]
  },
  {
   "cell_type": "markdown",
   "metadata": {},
   "source": [
    "The results show that there are many warehouse codes, so we need to double-check them against our reference list to identify any discrepancies."
   ]
  },
  {
   "cell_type": "code",
   "execution_count": 40,
   "metadata": {},
   "outputs": [
    {
     "name": "stdout",
     "output_type": "stream",
     "text": [
      "Counts of invalid warehouse codes:\n",
      "warehouse_code\n",
      "V0     40941\n",
      "N0     30613\n",
      "Q0     22310\n",
      "W0     15303\n",
      "S0     13876\n",
      "Q1      7843\n",
      "T0      3478\n",
      "S1      3451\n",
      "1T1       97\n",
      "BB1       95\n",
      "1N2       14\n",
      "1N3        9\n",
      "Name: count, dtype: int64\n"
     ]
    },
    {
     "data": {
      "text/plain": [
       "12"
      ]
     },
     "execution_count": 40,
     "metadata": {},
     "output_type": "execute_result"
    }
   ],
   "source": [
    "# List of valid warehouse codes from our reference\n",
    "valid_warehouse_codes = [\n",
    "    'Q1', 'V0', 'S0', 'T0', 'Q0', 'N0', 'KN0', 'W0', 'S1', 'Unk', 'GS0', 'GN0', \n",
    "    'CN0', 'CQ0', 'CV0', 'GW0', 'CS0', 'CW0', 'GQ0', 'AS0', 'CT0', 'CS1', 'CN1', \n",
    "    'CZ0', 'LW0', 'LQ0', 'LS1', 'LV0', 'LN9', 'LS0', 'FWE', 'EN0', 'FW2', 'JT0', \n",
    "    'FA1', 'FWA', 'FA2', '1N0', '1S0', '5N2', '5V0', '5S0', '5W0', '1V0', '1Q0', \n",
    "    '1N1', '1W0', '1Q1', '5Q0', '5T0', '5S1', '5N1', '1T0', '1S1', '5Q1']\n",
    "\n",
    "# Filter the DataFrame to get only the invalid warehouse codes\n",
    "invalid_warehouse_data = merged_data[~merged_data['warehouse_code'].isin(valid_warehouse_codes)]\n",
    "\n",
    "# Group by the invalid warehouse codes and count their occurrences\n",
    "invalid_code_counts = invalid_warehouse_data['warehouse_code'].value_counts()\n",
    "\n",
    "# Display the grouped counts of invalid codes\n",
    "print(\"Counts of invalid warehouse codes:\")\n",
    "print(invalid_code_counts)\n",
    "len(invalid_code_counts)"
   ]
  },
  {
   "cell_type": "markdown",
   "metadata": {},
   "source": [
    "The results show some invalid entries compared to our reference list. However, the codes 'V0', 'N0', 'Q0', 'W0', 'S0', 'Q1', 'T0', and 'S1' are present in our list but contain extra spaces. Therefore, we need to correct their format by removing the spaces."
   ]
  },
  {
   "cell_type": "code",
   "execution_count": 42,
   "metadata": {},
   "outputs": [
    {
     "name": "stdout",
     "output_type": "stream",
     "text": [
      "Unique warehouse codes after replacement:\n",
      "['Q1' 'V0' 'S0' 'T0' 'Q0' 'N0' 'KN0' 'W0' 'S1' 'Unk' 'GS0' 'GN0' 'CN0'\n",
      " 'CQ0' 'CV0' 'GW0' 'CS0' 'CW0' 'GQ0' 'AS0' 'CT0' 'CS1' 'CN1' 'CZ0' 'LW0'\n",
      " 'LQ0' 'LS1' 'LV0' 'LN9' 'LS0' 'FWE' 'EN0' 'FW2' 'JT0' 'FA1' 'FWA' 'FA2'\n",
      " '1N0' '1S0' '5N2' '5V0' '5S0' '5W0' '1V0' '1Q0' '1N1' '1W0' '1Q1' '5Q0'\n",
      " '5T0' '5S1' '5N1' '1T0' '1S1' '5Q1' '1T1' 'BB1' '1N2' '1N3']\n"
     ]
    }
   ],
   "source": [
    "# Define a dictionary to map codes with spaces to the cleaned versions\n",
    "replacement_map = {\n",
    "    'V0 ': 'V0',\n",
    "    'N0 ': 'N0',\n",
    "    'Q0 ': 'Q0',\n",
    "    'W0 ': 'W0',\n",
    "    'S0 ': 'S0',\n",
    "    'Q1 ': 'Q1',\n",
    "    'T0 ': 'T0',\n",
    "    'S1 ': 'S1'}\n",
    "\n",
    "# Replace values in the 'warehouse_code' column based on the mapping\n",
    "merged_data['warehouse_code'] = merged_data['warehouse_code'].replace(replacement_map)\n",
    "\n",
    "# Verify the replacements\n",
    "print(\"Unique warehouse codes after replacement:\")\n",
    "print(merged_data['warehouse_code'].unique())"
   ]
  },
  {
   "cell_type": "code",
   "execution_count": 43,
   "metadata": {},
   "outputs": [
    {
     "name": "stdout",
     "output_type": "stream",
     "text": [
      "Counts of invalid warehouse codes after cleaning:\n",
      "warehouse_code\n",
      "1T1    97\n",
      "BB1    95\n",
      "1N2    14\n",
      "1N3     9\n",
      "Name: count, dtype: int64\n"
     ]
    },
    {
     "data": {
      "text/plain": [
       "215"
      ]
     },
     "execution_count": 43,
     "metadata": {},
     "output_type": "execute_result"
    }
   ],
   "source": [
    "# After cleaning, check for invalid warehouse codes again\n",
    "invalid_warehouse_data = merged_data[~merged_data['warehouse_code'].isin(valid_warehouse_codes)]\n",
    "\n",
    "# Count occurrences of each invalid warehouse code\n",
    "invalid_code_counts = invalid_warehouse_data['warehouse_code'].value_counts()\n",
    "\n",
    "# Display the counts of invalid warehouse codes\n",
    "print(\"Counts of invalid warehouse codes after cleaning:\")\n",
    "print(invalid_code_counts)\n",
    "len(invalid_warehouse_data)"
   ]
  },
  {
   "cell_type": "markdown",
   "metadata": {},
   "source": [
    "After rechecking, we found that the 'warehouse_code' has data invalid around 215 rows, So we decided to delete it."
   ]
  },
  {
   "cell_type": "code",
   "execution_count": 45,
   "metadata": {},
   "outputs": [
    {
     "name": "stdout",
     "output_type": "stream",
     "text": [
      "(1987924, 43)\n"
     ]
    }
   ],
   "source": [
    "# List of invalid warehouse codes to drop\n",
    "invalid_codes = ['1T1', 'BB1', '1N2', '1N3']\n",
    "\n",
    "# Drop rows where 'warehouse_code' is one of the invalid codes\n",
    "merged_data = merged_data[~merged_data['warehouse_code'].isin(invalid_codes)]\n",
    "\n",
    "# Display the shape to confirm rows have been dropped\n",
    "print(merged_data.shape)"
   ]
  },
  {
   "cell_type": "markdown",
   "metadata": {},
   "source": [
    "- **environment_group_code**"
   ]
  },
  {
   "cell_type": "code",
   "execution_count": 47,
   "metadata": {},
   "outputs": [
    {
     "name": "stdout",
     "output_type": "stream",
     "text": [
      "['S                             ' 'P                             '\n",
      " 'D                             ' 'Z                             '\n",
      " 'C                             ' 'M                             '\n",
      " 'R                             ' 'I                             '\n",
      " 'NA                            ']\n"
     ]
    }
   ],
   "source": [
    "# check unique environment column\n",
    "print(merged_data['environment_group_code'].unique())"
   ]
  },
  {
   "cell_type": "markdown",
   "metadata": {},
   "source": [
    "The results show that the environment column codes contain extra spaces, so I will replace them int correct format."
   ]
  },
  {
   "cell_type": "code",
   "execution_count": 49,
   "metadata": {},
   "outputs": [
    {
     "name": "stdout",
     "output_type": "stream",
     "text": [
      "['S' 'P' 'D' 'Z' 'C' 'M' 'R' 'I' 'NA']\n"
     ]
    }
   ],
   "source": [
    "# Define a dictionary to map codes with spaces to the cleaned versions\n",
    "replacement_environ = {\n",
    "    'S                             ': 'S',\n",
    "    'P                             ': 'P',\n",
    "    'D                             ': 'D',\n",
    "    'Z                             ': 'Z',\n",
    "    'C                             ': 'C',\n",
    "    'M                             ': 'M',\n",
    "    'R                             ': 'R',\n",
    "    'I                             ': 'I',\n",
    "    'NA                            ': 'NA'}\n",
    "\n",
    "# Replace values in the 'environment_group_code' column based on the mapping\n",
    "merged_data['environment_group_code'] = merged_data['environment_group_code'].replace(replacement_environ)\n",
    "unique_warehouse_code = merged_data['environment_group_code'].unique()\n",
    "print(unique_warehouse_code)"
   ]
  },
  {
   "cell_type": "markdown",
   "metadata": {},
   "source": [
    "Moreover, we checked the code against our environment group list, and no invalid entries were found."
   ]
  },
  {
   "cell_type": "markdown",
   "metadata": {},
   "source": [
    "- **business_area_code**"
   ]
  },
  {
   "cell_type": "code",
   "execution_count": 52,
   "metadata": {},
   "outputs": [
    {
     "name": "stdout",
     "output_type": "stream",
     "text": [
      "['LMP                           ' 'FLD                           '\n",
      " 'OTH                           ' 'SUR                           '\n",
      " 'COM                           ' 'DLT                           '\n",
      " 'TRO                           ' 'URB                           '\n",
      " 'HLB                           ' 'SAE                           '\n",
      " 'RWY                           ' 'LCP                           '\n",
      " 'PEN                           ' 'EXL                           '\n",
      " 'TAL                           ' '945' '950' '980' '920' '960' '910'\n",
      " '930' '999' '970' '940' '985' 'IAE                           '\n",
      " 'IAI                           ']\n"
     ]
    }
   ],
   "source": [
    "# check the unique business code\n",
    "print(merged_data['business_area_code'].unique())"
   ]
  },
  {
   "cell_type": "markdown",
   "metadata": {},
   "source": [
    "The results show that there are many business codes, so we need to double-check them against our reference list to identify any discrepancies."
   ]
  },
  {
   "cell_type": "code",
   "execution_count": 54,
   "metadata": {},
   "outputs": [
    {
     "name": "stdout",
     "output_type": "stream",
     "text": [
      "Counts of invalid business codes:\n",
      "business_area_code\n",
      "LMP                               808682\n",
      "SUR                               405419\n",
      "COM                               201103\n",
      "OTH                               187219\n",
      "DLT                               103427\n",
      "FLD                                91433\n",
      "TRO                                33747\n",
      "TAL                                33157\n",
      "SAE                                28964\n",
      "URB                                26905\n",
      "RWY                                19288\n",
      "HLB                                18168\n",
      "PEN                                 8847\n",
      "LCP                                 6660\n",
      "EXL                                 2206\n",
      "IAI                                  226\n",
      "IAE                                   99\n",
      "Name: count, dtype: int64\n"
     ]
    }
   ],
   "source": [
    "# List of valid business codes from your reference\n",
    "business_area_codes = {\n",
    "    'LMP', 'FLD', 'OTH', 'SUR', 'COM', 'DLT', 'TRO', 'URB', 'HLB', 'SAE', 'RWY', \n",
    "    'LCP', 'PEN', 'EXL', 'TAL', '945', '950', '980', '920', '960', '910', '930', \n",
    "    '999', '970', '940', '985', 'IAE', 'IAI'}\n",
    "\n",
    "# Filter the DataFrame to get only the invalid business codes\n",
    "invalid_business_data = merged_data[~merged_data['business_area_code'].isin(business_area_codes)]\n",
    "\n",
    "# Group by the invalid business codes and count their occurrences\n",
    "invalid_business_counts = invalid_business_data['business_area_code'].value_counts()\n",
    "\n",
    "# Display the grouped counts of invalid codes\n",
    "print(\"Counts of invalid business codes:\")\n",
    "print(invalid_business_counts)"
   ]
  },
  {
   "cell_type": "markdown",
   "metadata": {},
   "source": [
    "The results show some invalid entries compared to our reference list. However, some of the codes are present in our list but contain extra spaces. Therefore, we need to correct their format by removing the spaces."
   ]
  },
  {
   "cell_type": "code",
   "execution_count": 56,
   "metadata": {},
   "outputs": [
    {
     "name": "stdout",
     "output_type": "stream",
     "text": [
      "Unique business codes after replacement:\n",
      "['LMP' 'FLD' 'OTH' 'SUR' 'COM' 'DLT' 'TRO' 'URB' 'HLB' 'SAE' 'RWY' 'LCP'\n",
      " 'PEN' 'EXL' 'TAL' '945' '950' '980' '920' '960' '910' '930' '999' '970'\n",
      " '940' '985' 'IAE' 'IAI']\n"
     ]
    }
   ],
   "source": [
    "# Define a dictionary to map codes with spaces to the cleaned versions\n",
    "replacement_business_code = {\n",
    "    'LMP                           ': 'LMP',\n",
    "    'FLD                           ': 'FLD',\n",
    "    'OTH                           ': 'OTH',\n",
    "    'SUR                           ': 'SUR',\n",
    "    'COM                           ': 'COM',\n",
    "    'DLT                           ': 'DLT',\n",
    "    'TRO                           ': 'TRO',\n",
    "    'URB                           ': 'URB',\n",
    "    'HLB                           ': 'HLB',\n",
    "    'SAE                           ': 'SAE',\n",
    "    'RWY                           ': 'RWY',\n",
    "    'LCP                           ': 'LCP',\n",
    "    'PEN                           ': 'PEN',\n",
    "    'EXL                           ': 'EXL',\n",
    "    'TAL                           ': 'TAL',\n",
    "    'IAE                           ': 'IAE',\n",
    "    'IAI                           ': 'IAI'}\n",
    "\n",
    "# Replace values in the 'business_area_code' column based on the mapping\n",
    "merged_data['business_area_code'] = merged_data['business_area_code'].replace(replacement_business_code)\n",
    "\n",
    "# Verify the replacements\n",
    "print(\"Unique business codes after replacement:\")\n",
    "print(merged_data['business_area_code'].unique())"
   ]
  },
  {
   "cell_type": "code",
   "execution_count": 57,
   "metadata": {},
   "outputs": [
    {
     "name": "stdout",
     "output_type": "stream",
     "text": [
      "Counts of invalid business codes:\n",
      "Series([], Name: count, dtype: int64)\n"
     ]
    }
   ],
   "source": [
    "# After cleaning, check for invalid business codes again\n",
    "invalid_business_data = merged_data[~merged_data['business_area_code'].isin(business_area_codes)]\n",
    "\n",
    "# Count occurrences of each invalid business code\n",
    "invalid_business_counts = invalid_business_data['business_area_code'].value_counts()\n",
    "\n",
    "# Display the counts of invalid business codes\n",
    "print(\"Counts of invalid business codes:\")\n",
    "print(invalid_business_counts)"
   ]
  },
  {
   "cell_type": "markdown",
   "metadata": {},
   "source": [
    "After rechecking, we found that the 'business_area_code' has not data invalid."
   ]
  },
  {
   "cell_type": "markdown",
   "metadata": {},
   "source": [
    "- **customer_district_code**"
   ]
  },
  {
   "cell_type": "code",
   "execution_count": 60,
   "metadata": {},
   "outputs": [
    {
     "name": "stdout",
     "output_type": "stream",
     "text": [
      "[410 300 500 310 400 200 210 720 710 600 510 530 535 540 520 545 100]\n"
     ]
    }
   ],
   "source": [
    "# check the unique customer district column\n",
    "print(merged_data['customer_district_code'].unique())"
   ]
  },
  {
   "cell_type": "markdown",
   "metadata": {},
   "source": [
    "The results show that there are many customer codes, so we need to double-check them against our reference list to identify any discrepancies."
   ]
  },
  {
   "cell_type": "code",
   "execution_count": 62,
   "metadata": {},
   "outputs": [
    {
     "name": "stdout",
     "output_type": "stream",
     "text": [
      "Counts of invalid business codes:\n",
      "customer_district_code\n",
      "100    6\n",
      "Name: count, dtype: int64\n"
     ]
    }
   ],
   "source": [
    "# List of valid customer district codes from your reference\n",
    "customer_district_code = {'410', '300', '500', '310', '400', '200', '210', '720', '710', '600',\n",
    "                          '510', '530', '535', '540', '520', '545'}\n",
    "\n",
    "# Filter the DataFrame to get only the invalid customer codes\n",
    "invalid_customer_data = merged_data[~merged_data['customer_district_code'].astype(str).isin(customer_district_code)]\n",
    "\n",
    "# Group by the invalid customer codes and count their occurrences\n",
    "invalid_customer_counts = invalid_customer_data['customer_district_code'].value_counts()\n",
    "\n",
    "# Display the grouped counts of invalid codes\n",
    "print(\"Counts of invalid business codes:\")\n",
    "print(invalid_customer_counts)"
   ]
  },
  {
   "cell_type": "markdown",
   "metadata": {},
   "source": [
    "After rechecking, we found that the 'customer_district_code' has data invalid around 6 rows, So we decided to delete it."
   ]
  },
  {
   "cell_type": "code",
   "execution_count": 64,
   "metadata": {},
   "outputs": [
    {
     "name": "stdout",
     "output_type": "stream",
     "text": [
      "(1987918, 43)\n"
     ]
    }
   ],
   "source": [
    "# List of invalid customer codes to drop\n",
    "invalid_customer = ['100']\n",
    "\n",
    "# Drop rows where 'customer_district_code' is one of the invalid codes\n",
    "merged_data = merged_data[~merged_data['customer_district_code'].astype(str).isin(invalid_customer)]\n",
    "\n",
    "# Display the shape to confirm rows have been dropped\n",
    "print(merged_data.shape)"
   ]
  },
  {
   "cell_type": "code",
   "execution_count": 65,
   "metadata": {},
   "outputs": [
    {
     "name": "stdout",
     "output_type": "stream",
     "text": [
      "Counts of invalid business codes:\n",
      "Series([], Name: count, dtype: int64)\n"
     ]
    }
   ],
   "source": [
    "# After cleaning, check for invalid customer codes again\n",
    "invalid_customer_data = merged_data[~merged_data['customer_district_code'].astype(str).isin(customer_district_code)]\n",
    "\n",
    "# Count occurrences of each invalid customer code\n",
    "invalid_customer_counts = invalid_customer_data['customer_district_code'].value_counts()\n",
    "\n",
    "# Display the counts of invalid customer codes\n",
    "print(\"Counts of invalid business codes:\")\n",
    "print(invalid_customer_counts)"
   ]
  },
  {
   "cell_type": "markdown",
   "metadata": {},
   "source": [
    "- **technology_group_code**"
   ]
  },
  {
   "cell_type": "code",
   "execution_count": 67,
   "metadata": {},
   "outputs": [
    {
     "name": "stdout",
     "output_type": "stream",
     "text": [
      "['SYLV                                    '\n",
      " 'NA                                      '\n",
      " 'PIER                                    ' '96' '219' '92' '214' '380'\n",
      " '102' '123' '110' '98' '213' '580' '108' '999' '198'\n",
      " 'SCHR                                    ' '82' '140' '540'\n",
      " 'AUST                                    ' '480' '760' '460' '600' '520'\n",
      " '998' '570' '280' '330' '220' '415' '340' '225'\n",
      " 'CSE                                     ' '565' '410' '560' '800' '680'\n",
      " '320' '550' '400' '160' '440' '420' '500' '555' '360' '290' '780' '545'\n",
      " '181' '240' '640' '820' '595' '300' '830' '70' '850' '86' '720' '740'\n",
      " '310' 'FGDFT                                   ' '350' '206' '64'\n",
      " 'PNZ                                     ' '63'\n",
      " 'CROM                                    ' '100' '78' '207' '208' '76'\n",
      " '211' '205' '85' '90' '68' '130'\n",
      " 'GLG                                     '\n",
      " 'INLIT                                   ' '72' '61' '880' '217' '215'\n",
      " '80' '210' 'INZ                                     ' '250' '118' '66'\n",
      " 'PHANT                                   '\n",
      " 'DIGIN                                   ' '114' '112' '128' '88']\n"
     ]
    }
   ],
   "source": [
    "# check the unique technology code\n",
    "print(merged_data['technology_group_code'].unique())"
   ]
  },
  {
   "cell_type": "markdown",
   "metadata": {},
   "source": [
    "The results show that there are many technology codes, so we need to double-check them against our reference list to identify any discrepancies."
   ]
  },
  {
   "cell_type": "code",
   "execution_count": 69,
   "metadata": {},
   "outputs": [
    {
     "name": "stdout",
     "output_type": "stream",
     "text": [
      "Counts of invalid technology codes:\n",
      "technology_group_code\n",
      "CROM                                        273232\n",
      "NA                                          211199\n",
      "SYLV                                        185485\n",
      "PIER                                        160459\n",
      "PNZ                                          61144\n",
      "INZ                                           3879\n",
      "SCHR                                          2221\n",
      "CSE                                           1252\n",
      "FGDFT                                          326\n",
      "GLG                                            230\n",
      "AUST                                           218\n",
      "128                                            189\n",
      "INLIT                                          114\n",
      "DIGIN                                           14\n",
      "PHANT                                            3\n",
      "88                                               2\n",
      "114                                              1\n",
      "112                                              1\n",
      "Name: count, dtype: int64\n"
     ]
    },
    {
     "data": {
      "text/plain": [
       "18"
      ]
     },
     "execution_count": 69,
     "metadata": {},
     "output_type": "execute_result"
    }
   ],
   "source": [
    "# List of valid technology codes from your reference\n",
    "technology_group_codes = [\n",
    "    'SYLV', 'NA', 'PIER', '96', '219', '92', '214', '380', '102', '123', '110', \n",
    "    '98', '213', '580', '108', '999', '198', 'SCHR', '82', '140', '540', 'AUST', \n",
    "    '480', '760', '460', '600', '520', '998', '570', '280', '330', '220', '415', \n",
    "    '340', '225', 'CSE', '565', '410', '560', '800', '680', '320', '550', '400', \n",
    "    '160', '440', '420', '500', '555', '360', '290', '780', '545', '181', '240', \n",
    "    '640', '820', '595', '300', '830', '70', '850', '86', '720', '740', '310', \n",
    "    'FGDFT', '350', '206', '64', 'PNZ', '63', 'CROM', '100', '78', '207', '208', \n",
    "    '76', '211', '205', '85', '90', '68', '130', 'GLG', 'INLIT', '72', '61', \n",
    "    '880', '217', '215', '80', '210', 'INZ', '250', '118', '66']\n",
    "\n",
    "# Filter the DataFrame to get only the invalid technology codes\n",
    "invalid_technology_data = merged_data[~merged_data['technology_group_code'].isin(technology_group_codes)]\n",
    "\n",
    "# Group by the invalid technology codes and count their occurrences\n",
    "invalid_technology_counts = invalid_technology_data['technology_group_code'].value_counts()\n",
    "\n",
    "# Display the grouped counts of invalid codes\n",
    "print(\"Counts of invalid technology codes:\")\n",
    "print(invalid_technology_counts)\n",
    "len(invalid_technology_counts)"
   ]
  },
  {
   "cell_type": "markdown",
   "metadata": {},
   "source": [
    "The results show some invalid entries compared to our reference list. However, some of the codes are present in our list but contain extra spaces. Therefore, we need to correct their format by removing the spaces."
   ]
  },
  {
   "cell_type": "code",
   "execution_count": 71,
   "metadata": {},
   "outputs": [
    {
     "name": "stdout",
     "output_type": "stream",
     "text": [
      "Unique technology codes after replacement:\n",
      "['SYLV' 'NA' 'PIER' '96' '219' '92' '214' '380' '102' '123' '110' '98'\n",
      " '213' '580' '108' '999' '198' 'SCHR' '82' '140' '540' 'AUST' '480' '760'\n",
      " '460' '600' '520' '998' '570' '280' '330' '220' '415' '340' '225' 'CSE'\n",
      " '565' '410' '560' '800' '680' '320' '550' '400' '160' '440' '420' '500'\n",
      " '555' '360' '290' '780' '545' '181' '240' '640' '820' '595' '300' '830'\n",
      " '70' '850' '86' '720' '740' '310' 'FGDFT' '350' '206' '64' 'PNZ' '63'\n",
      " 'CROM' '100' '78' '207' '208' '76' '211' '205' '85' '90' '68' '130' 'GLG'\n",
      " 'INLIT' '72' '61' '880' '217' '215' '80' '210' 'INZ' '250' '118' '66'\n",
      " 'PHANT' 'DIGIN' '114' '112' '128' '88']\n"
     ]
    }
   ],
   "source": [
    "# Define a dictionary to map codes with spaces to the cleaned versions\n",
    "replacement_technology_code = {\n",
    "    'SYLV                                    ': 'SYLV',\n",
    "    'NA                                      ': 'NA',\n",
    "    'PIER                                    ': 'PIER',\n",
    "    'SCHR                                    ': 'SCHR',\n",
    "    'AUST                                    ': 'AUST',\n",
    "    'CSE                                     ': 'CSE',\n",
    "    'FGDFT                                   ': 'FGDFT',\n",
    "    'PNZ                                     ': 'PNZ',\n",
    "    'CROM                                    ': 'CROM',\n",
    "    'GLG                                     ': 'GLG',\n",
    "    'INLIT                                   ': 'INLIT',\n",
    "    'INZ                                     ': 'INZ',\n",
    "    'PHANT                                   ': 'PHANT',\n",
    "    'DIGIN                                   ': 'DIGIN'}\n",
    "\n",
    "# Replace values in the 'technology_group_code' column based on the mapping\n",
    "merged_data['technology_group_code'] = merged_data['technology_group_code'].replace(replacement_technology_code)\n",
    "\n",
    "# Verify the replacements\n",
    "print(\"Unique technology codes after replacement:\")\n",
    "print(merged_data['technology_group_code'].unique())"
   ]
  },
  {
   "cell_type": "code",
   "execution_count": 72,
   "metadata": {},
   "outputs": [
    {
     "name": "stdout",
     "output_type": "stream",
     "text": [
      "Counts of invalid technology codes:\n",
      "technology_group_code\n",
      "128      189\n",
      "DIGIN     14\n",
      "PHANT      3\n",
      "88         2\n",
      "114        1\n",
      "112        1\n",
      "Name: count, dtype: int64\n"
     ]
    },
    {
     "data": {
      "text/plain": [
       "210"
      ]
     },
     "execution_count": 72,
     "metadata": {},
     "output_type": "execute_result"
    }
   ],
   "source": [
    "# After cleaning, check for invalid technology codes again\n",
    "invalid_technology_data = merged_data[~merged_data['technology_group_code'].isin(technology_group_codes)]\n",
    "\n",
    "# Count occurrences of each invalid technology code\n",
    "invalid_technology_counts = invalid_technology_data['technology_group_code'].value_counts()\n",
    "\n",
    "# Display the counts of invalid technology codes\n",
    "print(\"Counts of invalid technology codes:\")\n",
    "print(invalid_technology_counts)\n",
    "len(invalid_technology_data)"
   ]
  },
  {
   "cell_type": "markdown",
   "metadata": {},
   "source": [
    "After rechecking, we found that the 'technology_group_code' has data invalid around 210 rows, So we decided to delete it."
   ]
  },
  {
   "cell_type": "code",
   "execution_count": 74,
   "metadata": {},
   "outputs": [
    {
     "name": "stdout",
     "output_type": "stream",
     "text": [
      "(1987708, 43)\n"
     ]
    }
   ],
   "source": [
    "# List of invalid technology codes to drop\n",
    "invalid_technology = ['128', 'DIGIN', 'PHANT', '88', '114', '112']\n",
    "\n",
    "# Drop rows where 'technology_group_code' is one of the invalid codes\n",
    "merged_data = merged_data[~merged_data['technology_group_code'].isin(invalid_technology)]\n",
    "\n",
    "# Display the shape to confirm rows have been dropped\n",
    "print(merged_data.shape)"
   ]
  },
  {
   "cell_type": "markdown",
   "metadata": {},
   "source": [
    "- currency"
   ]
  },
  {
   "cell_type": "code",
   "execution_count": 76,
   "metadata": {},
   "outputs": [
    {
     "name": "stdout",
     "output_type": "stream",
     "text": [
      "['AUD' 'USD' 'AUS' 'NZD' '   ' 'EUR']\n"
     ]
    }
   ],
   "source": [
    "# check the unique currency\n",
    "print(merged_data['currency'].unique())"
   ]
  },
  {
   "cell_type": "code",
   "execution_count": 77,
   "metadata": {},
   "outputs": [
    {
     "name": "stdout",
     "output_type": "stream",
     "text": [
      "currency\n",
      "AUD    1582276\n",
      "AUS     287619\n",
      "NZD     116633\n",
      "USD        675\n",
      "EUR        503\n",
      "             2\n",
      "Name: count, dtype: int64\n"
     ]
    }
   ],
   "source": [
    "# Count the occurrences of each unique currency\n",
    "print(merged_data['currency'].value_counts())"
   ]
  },
  {
   "cell_type": "markdown",
   "metadata": {},
   "source": [
    "Following an analysis of the currency counts, we decided to remove entries with blank spaces and standardize 'AUS' to 'AUD'."
   ]
  },
  {
   "cell_type": "code",
   "execution_count": 79,
   "metadata": {},
   "outputs": [
    {
     "name": "stdout",
     "output_type": "stream",
     "text": [
      "currency\n",
      "AUD    1869895\n",
      "NZD     116633\n",
      "USD        675\n",
      "EUR        503\n",
      "Name: count, dtype: int64\n"
     ]
    }
   ],
   "source": [
    "# Replace 'AUS' with 'AUD'\n",
    "merged_data['currency'] = merged_data['currency'].replace('AUS', 'AUD')\n",
    "\n",
    "# Drop rows where 'currency' is blank or contains only spaces\n",
    "merged_data = merged_data[merged_data['currency'].str.strip() != '']\n",
    "\n",
    "# Verify the changes\n",
    "print(merged_data['currency'].value_counts())"
   ]
  },
  {
   "cell_type": "code",
   "execution_count": 80,
   "metadata": {},
   "outputs": [
    {
     "name": "stdout",
     "output_type": "stream",
     "text": [
      "         calendar_year currency  value_sales  value_cost\n",
      "0                 2012      AUD       218.40    178.1976\n",
      "1                 2012      AUD        38.28     25.4568\n",
      "2                 2012      AUD        40.20     25.4568\n",
      "3                 2012      AUD        20.10     12.7284\n",
      "4                 2012      AUD        19.14     12.7284\n",
      "...                ...      ...          ...         ...\n",
      "1988377           2013      AUD       244.00    105.5600\n",
      "1988378           2013      AUD      1185.00    681.4500\n",
      "1988379           2013      AUD       232.19     58.7915\n",
      "1988380           2013      AUD        31.00     13.1950\n",
      "1988381           2013      AUD        37.44     14.2100\n",
      "\n",
      "[1987706 rows x 4 columns]\n"
     ]
    }
   ],
   "source": [
    "# Define exchange rates for each currency and year\n",
    "exchange_rates = {\n",
    "    2012: {'NZD': 0.80, 'USD': 1.05, 'EUR': 1.30, 'AUD': 1.0},\n",
    "    2013: {'NZD': 0.82, 'USD': 1.08, 'EUR': 1.35, 'AUD': 1.0}\n",
    "}\n",
    "\n",
    "# Function to convert to AUD based on currency and year\n",
    "def convert_to_aud(row, column_name):\n",
    "    rate = exchange_rates.get(row['calendar_year'], {}).get(row['currency'], 1)\n",
    "    return row[column_name] * rate\n",
    "\n",
    "# Apply conversion directly to value_sales and value_cost columns\n",
    "merged_data['value_sales'] = merged_data.apply(lambda row: convert_to_aud(row, 'value_sales'), axis=1)\n",
    "merged_data['value_cost'] = merged_data.apply(lambda row: convert_to_aud(row, 'value_cost'), axis=1)\n",
    "\n",
    "# Display the updated DataFrame to confirm the changes\n",
    "print(merged_data[['calendar_year', 'currency', 'value_sales', 'value_cost']])\n"
   ]
  },
  {
   "cell_type": "code",
   "execution_count": 81,
   "metadata": {},
   "outputs": [
    {
     "name": "stdout",
     "output_type": "stream",
     "text": [
      "currency\n",
      "AUD    1987706\n",
      "Name: count, dtype: int64\n"
     ]
    }
   ],
   "source": [
    "# Replace specific currency values with 'AUD'\n",
    "merged_data['currency'] = merged_data['currency'].replace(['NZD', 'USD', 'EUR'], 'AUD')\n",
    "\n",
    "# Verify the result\n",
    "print(merged_data['currency'].value_counts())"
   ]
  },
  {
   "cell_type": "markdown",
   "metadata": {},
   "source": [
    "- invoice_number"
   ]
  },
  {
   "cell_type": "markdown",
   "metadata": {},
   "source": [
    "In typical cases, an invoice_number should be unique and non-zero, as it is often used as an identifier for transactions. We decided to remove the rows that contain 0 because An invoice_number value of zero could indicate one of the following:\n",
    "1. Missing Data: Zero may be used as a placeholder for missing or unknown invoice numbers. It’s worth checking if there are other patterns in these rows that suggest incomplete data.\n",
    "2. Data Entry Error: Zero could be an error if someone accidentally entered it instead of leaving the field blank or using a valid invoice number.\n",
    "3. Dummy Data: Sometimes zero or other default values are used in testing or as placeholder data in cases where no invoice was actually generated."
   ]
  },
  {
   "cell_type": "code",
   "execution_count": 84,
   "metadata": {},
   "outputs": [
    {
     "name": "stdout",
     "output_type": "stream",
     "text": [
      "Number of rows with invoice_number equal to 0: 117\n"
     ]
    }
   ],
   "source": [
    "# Count the rows where 'invoice_number' is zero\n",
    "zero_invoice_number_count = (merged_data['invoice_number'] == 0).sum()\n",
    "\n",
    "# Display the count\n",
    "print(\"Number of rows with invoice_number equal to 0:\", zero_invoice_number_count)"
   ]
  },
  {
   "cell_type": "code",
   "execution_count": 85,
   "metadata": {},
   "outputs": [
    {
     "name": "stdout",
     "output_type": "stream",
     "text": [
      "Number of rows with invoice_number equal to 0: 0\n"
     ]
    }
   ],
   "source": [
    "# Remove rows where 'invoice_number' is zero\n",
    "merged_data = merged_data[merged_data['invoice_number'] != 0]\n",
    "\n",
    "zero_invoice_number_count = (merged_data['invoice_number'] == 0).sum()\n",
    "\n",
    "# Display the count\n",
    "print(\"Number of rows with invoice_number equal to 0:\", zero_invoice_number_count)"
   ]
  },
  {
   "cell_type": "markdown",
   "metadata": {},
   "source": [
    "## 3. Removing Duplicates\n",
    "- Identify and remove duplicate records, which can skew analysis results and lead to incorrect conclusions."
   ]
  },
  {
   "cell_type": "code",
   "execution_count": 87,
   "metadata": {},
   "outputs": [
    {
     "name": "stdout",
     "output_type": "stream",
     "text": [
      "Duplicate rows based on all columns:\n"
     ]
    },
    {
     "data": {
      "text/html": [
       "<div>\n",
       "<style scoped>\n",
       "    .dataframe tbody tr th:only-of-type {\n",
       "        vertical-align: middle;\n",
       "    }\n",
       "\n",
       "    .dataframe tbody tr th {\n",
       "        vertical-align: top;\n",
       "    }\n",
       "\n",
       "    .dataframe thead th {\n",
       "        text-align: right;\n",
       "    }\n",
       "</style>\n",
       "<table border=\"1\" class=\"dataframe\">\n",
       "  <thead>\n",
       "    <tr style=\"text-align: right;\">\n",
       "      <th></th>\n",
       "      <th>accounting_date</th>\n",
       "      <th>fiscal_year</th>\n",
       "      <th>fiscal_month</th>\n",
       "      <th>calendar_year</th>\n",
       "      <th>calendar_month</th>\n",
       "      <th>calendar_day</th>\n",
       "      <th>company_code</th>\n",
       "      <th>customer_code</th>\n",
       "      <th>customer_district_code</th>\n",
       "      <th>item_code</th>\n",
       "      <th>...</th>\n",
       "      <th>currency</th>\n",
       "      <th>invoice_number</th>\n",
       "      <th>line_number</th>\n",
       "      <th>invoice_date</th>\n",
       "      <th>customer_order_number</th>\n",
       "      <th>order_date</th>\n",
       "      <th>dss_update_time</th>\n",
       "      <th>accounting_year</th>\n",
       "      <th>accounting_month</th>\n",
       "      <th>accounting_day</th>\n",
       "    </tr>\n",
       "  </thead>\n",
       "  <tbody>\n",
       "    <tr>\n",
       "      <th>342</th>\n",
       "      <td>2012-05-31</td>\n",
       "      <td>2012</td>\n",
       "      <td>11</td>\n",
       "      <td>2012</td>\n",
       "      <td>5</td>\n",
       "      <td>31</td>\n",
       "      <td>101</td>\n",
       "      <td>411800601</td>\n",
       "      <td>410</td>\n",
       "      <td>GENIE14WWWBC</td>\n",
       "      <td>...</td>\n",
       "      <td>AUD</td>\n",
       "      <td>2228160</td>\n",
       "      <td>1</td>\n",
       "      <td>20120531</td>\n",
       "      <td>2875352</td>\n",
       "      <td>20120531</td>\n",
       "      <td>49:58.7</td>\n",
       "      <td>2012</td>\n",
       "      <td>5</td>\n",
       "      <td>31</td>\n",
       "    </tr>\n",
       "    <tr>\n",
       "      <th>546</th>\n",
       "      <td>2012-03-09</td>\n",
       "      <td>2012</td>\n",
       "      <td>9</td>\n",
       "      <td>2012</td>\n",
       "      <td>3</td>\n",
       "      <td>9</td>\n",
       "      <td>101</td>\n",
       "      <td>299480705</td>\n",
       "      <td>200</td>\n",
       "      <td>GENIE11WWWBC</td>\n",
       "      <td>...</td>\n",
       "      <td>AUD</td>\n",
       "      <td>2194962</td>\n",
       "      <td>1</td>\n",
       "      <td>20120309</td>\n",
       "      <td>2842567</td>\n",
       "      <td>20120309</td>\n",
       "      <td>49:58.7</td>\n",
       "      <td>2012</td>\n",
       "      <td>3</td>\n",
       "      <td>9</td>\n",
       "    </tr>\n",
       "    <tr>\n",
       "      <th>852</th>\n",
       "      <td>2012-02-07</td>\n",
       "      <td>2012</td>\n",
       "      <td>8</td>\n",
       "      <td>2012</td>\n",
       "      <td>2</td>\n",
       "      <td>7</td>\n",
       "      <td>101</td>\n",
       "      <td>254500401</td>\n",
       "      <td>200</td>\n",
       "      <td>GENIE14WCDLES</td>\n",
       "      <td>...</td>\n",
       "      <td>AUD</td>\n",
       "      <td>2181735</td>\n",
       "      <td>1</td>\n",
       "      <td>20120207</td>\n",
       "      <td>2829953</td>\n",
       "      <td>20120207</td>\n",
       "      <td>49:58.7</td>\n",
       "      <td>2012</td>\n",
       "      <td>2</td>\n",
       "      <td>7</td>\n",
       "    </tr>\n",
       "    <tr>\n",
       "      <th>940</th>\n",
       "      <td>2012-01-05</td>\n",
       "      <td>2012</td>\n",
       "      <td>7</td>\n",
       "      <td>2012</td>\n",
       "      <td>1</td>\n",
       "      <td>5</td>\n",
       "      <td>101</td>\n",
       "      <td>565540406</td>\n",
       "      <td>500</td>\n",
       "      <td>GENIE11WWWBC</td>\n",
       "      <td>...</td>\n",
       "      <td>AUD</td>\n",
       "      <td>2169721</td>\n",
       "      <td>1</td>\n",
       "      <td>20120105</td>\n",
       "      <td>2818837</td>\n",
       "      <td>20120105</td>\n",
       "      <td>49:58.7</td>\n",
       "      <td>2012</td>\n",
       "      <td>1</td>\n",
       "      <td>5</td>\n",
       "    </tr>\n",
       "    <tr>\n",
       "      <th>1257</th>\n",
       "      <td>2012-05-08</td>\n",
       "      <td>2012</td>\n",
       "      <td>11</td>\n",
       "      <td>2012</td>\n",
       "      <td>5</td>\n",
       "      <td>8</td>\n",
       "      <td>100</td>\n",
       "      <td>234750001</td>\n",
       "      <td>720</td>\n",
       "      <td>BWP/TLED219840</td>\n",
       "      <td>...</td>\n",
       "      <td>AUD</td>\n",
       "      <td>7002039</td>\n",
       "      <td>-2</td>\n",
       "      <td>20120508</td>\n",
       "      <td>5119676</td>\n",
       "      <td>20120508</td>\n",
       "      <td>49:58.7</td>\n",
       "      <td>2012</td>\n",
       "      <td>5</td>\n",
       "      <td>8</td>\n",
       "    </tr>\n",
       "    <tr>\n",
       "      <th>...</th>\n",
       "      <td>...</td>\n",
       "      <td>...</td>\n",
       "      <td>...</td>\n",
       "      <td>...</td>\n",
       "      <td>...</td>\n",
       "      <td>...</td>\n",
       "      <td>...</td>\n",
       "      <td>...</td>\n",
       "      <td>...</td>\n",
       "      <td>...</td>\n",
       "      <td>...</td>\n",
       "      <td>...</td>\n",
       "      <td>...</td>\n",
       "      <td>...</td>\n",
       "      <td>...</td>\n",
       "      <td>...</td>\n",
       "      <td>...</td>\n",
       "      <td>...</td>\n",
       "      <td>...</td>\n",
       "      <td>...</td>\n",
       "      <td>...</td>\n",
       "    </tr>\n",
       "    <tr>\n",
       "      <th>1985196</th>\n",
       "      <td>2013-09-19</td>\n",
       "      <td>2014</td>\n",
       "      <td>3</td>\n",
       "      <td>2013</td>\n",
       "      <td>9</td>\n",
       "      <td>19</td>\n",
       "      <td>205</td>\n",
       "      <td>502988001</td>\n",
       "      <td>500</td>\n",
       "      <td>BWP/T236H</td>\n",
       "      <td>...</td>\n",
       "      <td>AUD</td>\n",
       "      <td>2408807</td>\n",
       "      <td>2</td>\n",
       "      <td>20130919</td>\n",
       "      <td>3042762</td>\n",
       "      <td>20130812</td>\n",
       "      <td>49:58.7</td>\n",
       "      <td>2013</td>\n",
       "      <td>9</td>\n",
       "      <td>19</td>\n",
       "    </tr>\n",
       "    <tr>\n",
       "      <th>1985511</th>\n",
       "      <td>2013-08-16</td>\n",
       "      <td>2014</td>\n",
       "      <td>2</td>\n",
       "      <td>2013</td>\n",
       "      <td>8</td>\n",
       "      <td>16</td>\n",
       "      <td>101</td>\n",
       "      <td>200000000</td>\n",
       "      <td>200</td>\n",
       "      <td>JS97Q01</td>\n",
       "      <td>...</td>\n",
       "      <td>AUD</td>\n",
       "      <td>822811</td>\n",
       "      <td>0</td>\n",
       "      <td>20130816</td>\n",
       "      <td>1503017</td>\n",
       "      <td>20130816</td>\n",
       "      <td>49:58.7</td>\n",
       "      <td>2013</td>\n",
       "      <td>8</td>\n",
       "      <td>16</td>\n",
       "    </tr>\n",
       "    <tr>\n",
       "      <th>1986320</th>\n",
       "      <td>2013-10-18</td>\n",
       "      <td>2014</td>\n",
       "      <td>4</td>\n",
       "      <td>2013</td>\n",
       "      <td>10</td>\n",
       "      <td>18</td>\n",
       "      <td>205</td>\n",
       "      <td>478000711</td>\n",
       "      <td>410</td>\n",
       "      <td>27099</td>\n",
       "      <td>...</td>\n",
       "      <td>AUD</td>\n",
       "      <td>309571</td>\n",
       "      <td>0</td>\n",
       "      <td>20131018</td>\n",
       "      <td>938028</td>\n",
       "      <td>20131018</td>\n",
       "      <td>49:58.7</td>\n",
       "      <td>2013</td>\n",
       "      <td>10</td>\n",
       "      <td>18</td>\n",
       "    </tr>\n",
       "    <tr>\n",
       "      <th>1987850</th>\n",
       "      <td>2013-10-18</td>\n",
       "      <td>2014</td>\n",
       "      <td>4</td>\n",
       "      <td>2013</td>\n",
       "      <td>10</td>\n",
       "      <td>18</td>\n",
       "      <td>950</td>\n",
       "      <td>Z85033902</td>\n",
       "      <td>535</td>\n",
       "      <td>603356NZ</td>\n",
       "      <td>...</td>\n",
       "      <td>AUD</td>\n",
       "      <td>149953</td>\n",
       "      <td>2</td>\n",
       "      <td>20131018</td>\n",
       "      <td>3068879</td>\n",
       "      <td>20131015</td>\n",
       "      <td>49:58.7</td>\n",
       "      <td>2013</td>\n",
       "      <td>10</td>\n",
       "      <td>18</td>\n",
       "    </tr>\n",
       "    <tr>\n",
       "      <th>1988195</th>\n",
       "      <td>2013-11-01</td>\n",
       "      <td>2014</td>\n",
       "      <td>5</td>\n",
       "      <td>2013</td>\n",
       "      <td>11</td>\n",
       "      <td>1</td>\n",
       "      <td>205</td>\n",
       "      <td>289481715</td>\n",
       "      <td>200</td>\n",
       "      <td>DB218EL</td>\n",
       "      <td>...</td>\n",
       "      <td>AUD</td>\n",
       "      <td>2422559</td>\n",
       "      <td>1</td>\n",
       "      <td>20131101</td>\n",
       "      <td>3075926</td>\n",
       "      <td>20131101</td>\n",
       "      <td>49:58.7</td>\n",
       "      <td>2013</td>\n",
       "      <td>11</td>\n",
       "      <td>1</td>\n",
       "    </tr>\n",
       "  </tbody>\n",
       "</table>\n",
       "<p>8209 rows × 43 columns</p>\n",
       "</div>"
      ],
      "text/plain": [
       "        accounting_date  fiscal_year  fiscal_month  calendar_year  \\\n",
       "342          2012-05-31         2012            11           2012   \n",
       "546          2012-03-09         2012             9           2012   \n",
       "852          2012-02-07         2012             8           2012   \n",
       "940          2012-01-05         2012             7           2012   \n",
       "1257         2012-05-08         2012            11           2012   \n",
       "...                 ...          ...           ...            ...   \n",
       "1985196      2013-09-19         2014             3           2013   \n",
       "1985511      2013-08-16         2014             2           2013   \n",
       "1986320      2013-10-18         2014             4           2013   \n",
       "1987850      2013-10-18         2014             4           2013   \n",
       "1988195      2013-11-01         2014             5           2013   \n",
       "\n",
       "         calendar_month  calendar_day  company_code customer_code  \\\n",
       "342                   5            31           101     411800601   \n",
       "546                   3             9           101     299480705   \n",
       "852                   2             7           101     254500401   \n",
       "940                   1             5           101     565540406   \n",
       "1257                  5             8           100     234750001   \n",
       "...                 ...           ...           ...           ...   \n",
       "1985196               9            19           205     502988001   \n",
       "1985511               8            16           101     200000000   \n",
       "1986320              10            18           205     478000711   \n",
       "1987850              10            18           950    Z85033902    \n",
       "1988195              11             1           205     289481715   \n",
       "\n",
       "         customer_district_code                       item_code  ... currency  \\\n",
       "342                         410  GENIE14WWWBC                    ...      AUD   \n",
       "546                         200  GENIE11WWWBC                    ...      AUD   \n",
       "852                         200  GENIE14WCDLES                   ...      AUD   \n",
       "940                         500  GENIE11WWWBC                    ...      AUD   \n",
       "1257                        720  BWP/TLED219840                  ...      AUD   \n",
       "...                         ...                             ...  ...      ...   \n",
       "1985196                     500  BWP/T236H                       ...      AUD   \n",
       "1985511                     200  JS97Q01                         ...      AUD   \n",
       "1986320                     410                           27099  ...      AUD   \n",
       "1987850                     535  603356NZ                        ...      AUD   \n",
       "1988195                     200  DB218EL                         ...      AUD   \n",
       "\n",
       "        invoice_number line_number  invoice_date customer_order_number  \\\n",
       "342            2228160           1      20120531               2875352   \n",
       "546            2194962           1      20120309               2842567   \n",
       "852            2181735           1      20120207               2829953   \n",
       "940            2169721           1      20120105               2818837   \n",
       "1257           7002039          -2      20120508               5119676   \n",
       "...                ...         ...           ...                   ...   \n",
       "1985196        2408807           2      20130919               3042762   \n",
       "1985511         822811           0      20130816               1503017   \n",
       "1986320         309571           0      20131018                938028   \n",
       "1987850         149953           2      20131018               3068879   \n",
       "1988195        2422559           1      20131101               3075926   \n",
       "\n",
       "        order_date dss_update_time accounting_year accounting_month  \\\n",
       "342       20120531         49:58.7            2012                5   \n",
       "546       20120309         49:58.7            2012                3   \n",
       "852       20120207         49:58.7            2012                2   \n",
       "940       20120105         49:58.7            2012                1   \n",
       "1257      20120508         49:58.7            2012                5   \n",
       "...            ...             ...             ...              ...   \n",
       "1985196   20130812         49:58.7            2013                9   \n",
       "1985511   20130816         49:58.7            2013                8   \n",
       "1986320   20131018         49:58.7            2013               10   \n",
       "1987850   20131015         49:58.7            2013               10   \n",
       "1988195   20131101         49:58.7            2013               11   \n",
       "\n",
       "        accounting_day  \n",
       "342                 31  \n",
       "546                  9  \n",
       "852                  7  \n",
       "940                  5  \n",
       "1257                 8  \n",
       "...                ...  \n",
       "1985196             19  \n",
       "1985511             16  \n",
       "1986320             18  \n",
       "1987850             18  \n",
       "1988195              1  \n",
       "\n",
       "[8209 rows x 43 columns]"
      ]
     },
     "metadata": {},
     "output_type": "display_data"
    }
   ],
   "source": [
    "# Check for duplicate rows based on all columns\n",
    "duplicate_rows = merged_data[merged_data.duplicated(keep='first')]\n",
    "\n",
    "# Display the duplicate rows\n",
    "print(\"Duplicate rows based on all columns:\")\n",
    "display(duplicate_rows)"
   ]
  },
  {
   "cell_type": "markdown",
   "metadata": {},
   "source": [
    "After identifying the duplicate records, it shows the duplicate records 8,209 rows, which we will remove."
   ]
  },
  {
   "cell_type": "code",
   "execution_count": 89,
   "metadata": {},
   "outputs": [
    {
     "name": "stdout",
     "output_type": "stream",
     "text": [
      "Data after removing duplicates: (1979380, 43)\n"
     ]
    }
   ],
   "source": [
    "# Remove duplicate rows based on all columns\n",
    "cleaned_data = merged_data.drop_duplicates()\n",
    "\n",
    "# Display the shape to confirm duplicates were removed\n",
    "print(\"Data after removing duplicates:\", cleaned_data.shape)"
   ]
  },
  {
   "cell_type": "markdown",
   "metadata": {},
   "source": [
    "## 4. Handling Outliers\n",
    "- Outliers can distort analysis, especially in statistical modeling. Identify them using visualization techniques (e.g., boxplots).\n",
    "- Decide whether to remove, transform, or keep outliers based on the context and goals of the analysis."
   ]
  },
  {
   "cell_type": "markdown",
   "metadata": {},
   "source": [
    "- Focusing on value-related columns, value_sales, value_cost, value_quantity is critical because these directly impact financial performance and operational decisions.\n",
    "- Based on the output of value_price_adjustment, it seems that this column primarily contains binary values (0 and 1), with an overwhelming majority being 0. This suggests that value_price_adjustment is likely a categorical or indicator variable rather than a continuous one."
   ]
  },
  {
   "cell_type": "code",
   "execution_count": 92,
   "metadata": {},
   "outputs": [
    {
     "name": "stdout",
     "output_type": "stream",
     "text": [
      "value_price_adjustment\n",
      "0    1939040\n",
      "1      48549\n",
      "Name: count, dtype: int64\n"
     ]
    }
   ],
   "source": [
    "print(merged_data['value_price_adjustment'].value_counts())"
   ]
  },
  {
   "cell_type": "code",
   "execution_count": 93,
   "metadata": {},
   "outputs": [],
   "source": [
    "# import matplotlib.pyplot as plt\n",
    "\n",
    "# # Set up the figure with a grid of 1x3 subplots\n",
    "# fig, axes = plt.subplots(1, 3, figsize=(15, 5))\n",
    "\n",
    "# # Plot the box plot for 'value_sales' in the first subplot\n",
    "# merged_data['value_sales'].plot(kind='box', ax=axes[0])\n",
    "# axes[0].set_title('Boxplot of value_sales')\n",
    "\n",
    "# # Plot the box plot for 'value_cost' in the second subplot\n",
    "# merged_data['value_cost'].plot(kind='box', ax=axes[1])\n",
    "# axes[1].set_title('Boxplot of value_cost')\n",
    "\n",
    "# # Plot the box plot for 'value_quantity' in the third subplot\n",
    "# merged_data['value_quantity'].plot(kind='box', ax=axes[2])\n",
    "# axes[2].set_title('Boxplot of value_quantity')\n",
    "\n",
    "# # Adjust layout to prevent overlap\n",
    "# plt.tight_layout()\n",
    "# plt.show()\n"
   ]
  },
  {
   "cell_type": "code",
   "execution_count": 94,
   "metadata": {},
   "outputs": [],
   "source": [
    "# # For value_sales\n",
    "# Q1_sales = merged_data['value_sales'].quantile(0.25)\n",
    "# Q3_sales = merged_data['value_sales'].quantile(0.75)\n",
    "# IQR_sales = Q3_sales - Q1_sales\n",
    "# lower_bound_sales = Q1_sales - 1.5 * IQR_sales\n",
    "# upper_bound_sales = Q3_sales + 1.5 * IQR_sales\n",
    "# print(\"Bounds for value_sales:\", lower_bound_sales, \"-\", upper_bound_sales)\n",
    "\n",
    "# # For value_cost\n",
    "# Q1_cost = merged_data['value_cost'].quantile(0.25)\n",
    "# Q3_cost = merged_data['value_cost'].quantile(0.75)\n",
    "# IQR_cost = Q3_cost - Q1_cost\n",
    "# lower_bound_cost = Q1_cost - 1.5 * IQR_cost\n",
    "# upper_bound_cost = Q3_cost + 1.5 * IQR_cost\n",
    "# print(\"Bounds for value_cost:\", lower_bound_cost, \"-\", upper_bound_cost)\n",
    "\n",
    "# # For value_quantity\n",
    "# Q1_quantity = merged_data['value_quantity'].quantile(0.25)\n",
    "# Q3_quantity = merged_data['value_quantity'].quantile(0.75)\n",
    "# IQR_quantity = Q3_quantity - Q1_quantity\n",
    "# lower_bound_quantity = Q1_quantity - 1.5 * IQR_quantity\n",
    "# upper_bound_quantity = Q3_quantity + 1.5 * IQR_quantity\n",
    "# print(\"Bounds for value_quantity:\", lower_bound_quantity, \"-\", upper_bound_quantity)\n"
   ]
  },
  {
   "cell_type": "code",
   "execution_count": 95,
   "metadata": {},
   "outputs": [],
   "source": [
    "# # Filter outliers for each column\n",
    "# sales_outliers = merged_data[(merged_data['value_sales'] < lower_bound_sales) | (merged_data['value_sales'] > upper_bound_sales)]\n",
    "# cost_outliers = merged_data[(merged_data['value_cost'] < lower_bound_cost) | (merged_data['value_cost'] > upper_bound_cost)]\n",
    "# quantity_outliers = merged_data[(merged_data['value_quantity'] < lower_bound_quantity) | (merged_data['value_quantity'] > upper_bound_quantity)]\n",
    "\n",
    "# # Display only the outliers for each column\n",
    "# print(\"Sales Outliers:\\n\", sales_outliers[['value_sales']])\n",
    "# print(\"Cost Outliers:\\n\", cost_outliers[['value_cost']])\n",
    "# print(\"Quantity Outliers:\\n\", quantity_outliers[['value_quantity']])\n"
   ]
  },
  {
   "cell_type": "markdown",
   "metadata": {},
   "source": [
    "Setting thresholds 500,000 for value_sales, 600,000 for value_cost, and 50,000 for value_quantity helps us identify unusually large or small transactions based on what could be considered reasonable or typical in a business context.\n",
    "By defining these limits, you can filter out transactions that might represent rare, high-impact events or possible data errors."
   ]
  },
  {
   "cell_type": "markdown",
   "metadata": {},
   "source": [
    "Using 500,000 for value_sales, 600,000 for value_cost, and 50,000 for value_quantity is a starting point based on:\n",
    "\n",
    "- Visual Analysis of Box Plots: The plots indicated values around these thresholds as extremes.\n",
    "- Business Logic: These numbers reflect what could be a reasonable upper limit for most cases, while anything beyond might be rare and worth investigating."
   ]
  },
  {
   "cell_type": "code",
   "execution_count": 98,
   "metadata": {},
   "outputs": [],
   "source": [
    "# # Hypothetical business thresholds (modify based on real business knowledge)\n",
    "# sales_threshold = 500000\n",
    "# cost_threshold = 600000\n",
    "# quantity_threshold = 50000\n",
    "\n",
    "\n",
    "# # Filter based on business-defined thresholds\n",
    "# business_sales_outliers = merged_data[(merged_data['value_sales'] > sales_threshold) | (merged_data['value_sales'] < -sales_threshold)]\n",
    "# business_cost_outliers = merged_data[(merged_data['value_cost'] > cost_threshold) | (merged_data['value_cost'] < -cost_threshold)]\n",
    "# business_quantity_outliers = merged_data[(merged_data['value_quantity'] > quantity_threshold) | (merged_data['value_quantity'] < -quantity_threshold)]\n",
    "\n",
    "# # Display only the outlier values for each column\n",
    "\n",
    "# print(\"Business Sales Outliers:\\n\", business_sales_outliers[['value_sales']])\n",
    "# print(\"Business Cost Outliers:\\n\", business_cost_outliers[['value_cost']])\n",
    "# print(\"Business Quantity Outliers:\\n\", business_quantity_outliers[['value_quantity']])\n"
   ]
  },
  {
   "cell_type": "markdown",
   "metadata": {},
   "source": [
    "- Remove extreme outliers based on business-defined limits.\n",
    "- Focus the analysis on values that fall within a \"reasonable\" range, reducing the influence of extremely high or low values that might skew results."
   ]
  },
  {
   "cell_type": "code",
   "execution_count": 100,
   "metadata": {},
   "outputs": [],
   "source": [
    "# merged_data = merged_data[\n",
    "#     (merged_data['value_sales'] <= sales_threshold) & (merged_data['value_sales'] >= -sales_threshold) &\n",
    "#     (merged_data['value_cost'] <= cost_threshold) & (merged_data['value_cost'] >= -cost_threshold) &\n",
    "#     (merged_data['value_quantity'] <= quantity_threshold) & (merged_data['value_quantity'] >= -quantity_threshold)\n",
    "# ]"
   ]
  },
  {
   "cell_type": "markdown",
   "metadata": {},
   "source": [
    "- Boxplot of value_sales, value_cost, value_quantity after remove extreme outliers"
   ]
  },
  {
   "cell_type": "code",
   "execution_count": 102,
   "metadata": {},
   "outputs": [],
   "source": [
    "# # Set up the figure with a grid of 1x3 subplots\n",
    "# fig, axes = plt.subplots(1, 3, figsize=(15, 5))\n",
    "\n",
    "# # Plot the box plot for 'value_sales' in the first subplot\n",
    "# merged_data['value_sales'].plot(kind='box', ax=axes[0])\n",
    "# axes[0].set_title('Boxplot of value_sales')\n",
    "\n",
    "# # Plot the box plot for 'value_cost' in the second subplot\n",
    "# merged_data['value_cost'].plot(kind='box', ax=axes[1])\n",
    "# axes[1].set_title('Boxplot of value_cost')\n",
    "\n",
    "# # Plot the box plot for 'value_quantity' in the third subplot\n",
    "# merged_data['value_quantity'].plot(kind='box', ax=axes[2])\n",
    "# axes[2].set_title('Boxplot of value_quantity')\n",
    "\n",
    "# # Adjust layout to prevent overlap\n",
    "# plt.tight_layout()\n",
    "# plt.show()\n"
   ]
  },
  {
   "cell_type": "code",
   "execution_count": 103,
   "metadata": {},
   "outputs": [
    {
     "data": {
      "image/png": "[encoded data removed]",
      "text/plain": [
       "<Figure size 1500x500 with 3 Axes>"
      ]
     },
     "metadata": {},
     "output_type": "display_data"
    }
   ],
   "source": [
    "# Plot histograms for each variable\n",
    "fig, axes = plt.subplots(1, 3, figsize=(15, 5))\n",
    "\n",
    "# Histogram for value_sales\n",
    "axes[0].hist(merged_data['value_sales'], bins=30, edgecolor='black')\n",
    "axes[0].set_title('Histogram of value_sales')\n",
    "axes[0].set_xlabel('value_sales')\n",
    "axes[0].set_ylabel('Frequency')\n",
    "\n",
    "# Histogram for value_cost\n",
    "axes[1].hist(merged_data['value_cost'], bins=30, edgecolor='black')\n",
    "axes[1].set_title('Histogram of value_cost')\n",
    "axes[1].set_xlabel('value_cost')\n",
    "axes[1].set_ylabel('Frequency')\n",
    "\n",
    "# Histogram for value_quantity\n",
    "axes[2].hist(merged_data['value_quantity'], bins=30, edgecolor='black')\n",
    "axes[2].set_title('Histogram of value_quantity')\n",
    "axes[2].set_xlabel('value_quantity')\n",
    "axes[2].set_ylabel('Frequency')\n",
    "\n",
    "plt.tight_layout()\n",
    "plt.show()"
   ]
  },
  {
   "cell_type": "markdown",
   "metadata": {},
   "source": [
    "1. Highly Skewed Data:\n",
    "The data for each of these columns is highly skewed, meaning there are many low or zero values and only a few high values.\n",
    "This often occurs when there is a large number of small transactions (or even no transactions in some cases), and only a few large transactions.\n",
    "2. Sparse Distribution:\n",
    "The narrow and high central bars suggest that the vast majority of values are very close to zero, with few values spreading out across the range.\n",
    "This could indicate that only a small percentage of transactions have high value_sales, value_cost, or value_quantity.\n",
    "3. Potential Need for Transformation:\n",
    "Because of the skewness, the data may benefit from a log transformation or another method to spread the values more evenly, especially if you plan to perform analyses or modeling that assume normality.\n",
    "4. Zero or Minimal Transactions:\n",
    "If there are many transactions with zero or minimal values in these columns, it might be useful to analyze these zero-value transactions separately. This could be a sign of canceled orders, unpaid invoices, or other business cases where no significant sales, cost, or quantity were recorded."
   ]
  },
  {
   "cell_type": "markdown",
   "metadata": {},
   "source": [
    "- Count zero values in each column"
   ]
  },
  {
   "cell_type": "code",
   "execution_count": 106,
   "metadata": {},
   "outputs": [
    {
     "name": "stdout",
     "output_type": "stream",
     "text": [
      "Number of zero values in value_sales: 22134\n",
      "Number of zero values in value_cost: 50111\n",
      "Number of zero values in value_quantity: 48552\n"
     ]
    }
   ],
   "source": [
    "# Count zero values in each column\n",
    "zero_value_sales = (merged_data['value_sales'] == 0).sum()\n",
    "zero_value_cost = (merged_data['value_cost'] == 0).sum()\n",
    "zero_value_quantity = (merged_data['value_quantity'] == 0).sum()\n",
    "\n",
    "# Display the counts\n",
    "print(\"Number of zero values in value_sales:\", zero_value_sales)\n",
    "print(\"Number of zero values in value_cost:\", zero_value_cost)\n",
    "print(\"Number of zero values in value_quantity:\", zero_value_quantity)\n"
   ]
  },
  {
   "cell_type": "code",
   "execution_count": 107,
   "metadata": {},
   "outputs": [
    {
     "name": "stdout",
     "output_type": "stream",
     "text": [
      "ABC Class Codes with zero value in value_sales:\n",
      "order_type_code\n",
      "NOR    16972\n",
      "SPC     2691\n",
      "PMO      771\n",
      "CRR      365\n",
      "PRD      294\n",
      "PRO      256\n",
      "CRD      238\n",
      "AES      145\n",
      "EXP       93\n",
      "PUP       71\n",
      "CPR       59\n",
      "PPO       33\n",
      "NOH       33\n",
      "NOS       32\n",
      "CSH       21\n",
      "ZCG       13\n",
      "ZCR       13\n",
      "PSA       11\n",
      "CRP       10\n",
      "EDI        5\n",
      "CDG        3\n",
      "MIN        2\n",
      "WDC        2\n",
      "COP        1\n",
      "Name: count, dtype: int64\n"
     ]
    }
   ],
   "source": [
    "# Filter the rows where 'value_sales' is zero\n",
    "zero_value_sales_data = merged_data[merged_data['value_sales'] == 0]\n",
    "\n",
    "# Display the 'abc_class_code' column for these filtered rows\n",
    "print(\"ABC Class Codes with zero value in value_sales:\")\n",
    "print(zero_value_sales_data['order_type_code'].value_counts())"
   ]
  },
  {
   "cell_type": "code",
   "execution_count": 108,
   "metadata": {},
   "outputs": [
    {
     "data": {
      "image/png": "[encoded data removed]",
      "text/plain": [
       "<Figure size 1200x800 with 1 Axes>"
      ]
     },
     "metadata": {},
     "output_type": "display_data"
    }
   ],
   "source": [
    "# Plot the count of each unique 'order_type_code' for zero 'value_sales'\n",
    "plt.figure(figsize=(12, 8))\n",
    "zero_value_sales_data['order_type_code'].value_counts().plot(kind='bar', color='skyblue')\n",
    "plt.title(\"Distribution of Order Type Codes with Zero Value in 'value_sales'\")\n",
    "plt.xlabel(\"Order Type Code\")\n",
    "plt.ylabel(\"Frequency\")\n",
    "plt.xticks(rotation=45)\n",
    "plt.show()"
   ]
  },
  {
   "cell_type": "code",
   "execution_count": 109,
   "metadata": {},
   "outputs": [
    {
     "name": "stdout",
     "output_type": "stream",
     "text": [
      "ABC Class Codes with zero value in value_cost:\n",
      "order_type_code\n",
      "CRD    45548\n",
      "ZCR     1415\n",
      "COP     1277\n",
      "NOR      991\n",
      "5TN      543\n",
      "CRP      304\n",
      "CRR       12\n",
      "ZOP        5\n",
      "EXP        4\n",
      "PMO        3\n",
      "PUP        2\n",
      "CDG        2\n",
      "EDI        2\n",
      "ZC2        1\n",
      "AES        1\n",
      "ZCG        1\n",
      "Name: count, dtype: int64\n"
     ]
    }
   ],
   "source": [
    "# Filter the rows where 'value_sales' is zero\n",
    "zero_value_cost_data = merged_data[merged_data['value_cost'] == 0]\n",
    "\n",
    "# Display the 'abc_class_code' column for these filtered rows\n",
    "print(\"ABC Class Codes with zero value in value_cost:\")\n",
    "print(zero_value_cost_data['order_type_code'].value_counts())"
   ]
  },
  {
   "cell_type": "code",
   "execution_count": 110,
   "metadata": {},
   "outputs": [
    {
     "data": {
      "image/png": "[encoded data removed]",
      "text/plain": [
       "<Figure size 1200x800 with 1 Axes>"
      ]
     },
     "metadata": {},
     "output_type": "display_data"
    }
   ],
   "source": [
    "# Plot the count of each unique 'order_type_code' for zero 'value_cost'\n",
    "plt.figure(figsize=(12, 8))\n",
    "zero_value_cost_data['order_type_code'].value_counts().plot(kind='bar', color='lightcoral')\n",
    "plt.title(\"Distribution of Order Type Codes with Zero Value in 'value_cost'\")\n",
    "plt.xlabel(\"Order Type Code\")\n",
    "plt.ylabel(\"Frequency\")\n",
    "plt.xticks(rotation=45)\n",
    "plt.show()"
   ]
  },
  {
   "cell_type": "code",
   "execution_count": 111,
   "metadata": {},
   "outputs": [
    {
     "name": "stdout",
     "output_type": "stream",
     "text": [
      "ABC Class Codes with zero value in value_quantity:\n",
      "order_type_code\n",
      "CRD    45547\n",
      "ZCR     1415\n",
      "COP     1277\n",
      "CRP      304\n",
      "ZOP        5\n",
      "PMO        3\n",
      "ZC2        1\n",
      "Name: count, dtype: int64\n"
     ]
    }
   ],
   "source": [
    "# Filter the rows where 'value_sales' is zero\n",
    "zero_value_q_data = merged_data[merged_data['value_quantity'] == 0]\n",
    "\n",
    "# Display the 'abc_class_code' column for these filtered rows\n",
    "print(\"ABC Class Codes with zero value in value_quantity:\")\n",
    "print(zero_value_q_data['order_type_code'].value_counts())"
   ]
  },
  {
   "cell_type": "code",
   "execution_count": 112,
   "metadata": {},
   "outputs": [
    {
     "data": {
      "image/png": "[encoded data removed]",
      "text/plain": [
       "<Figure size 1200x800 with 1 Axes>"
      ]
     },
     "metadata": {},
     "output_type": "display_data"
    }
   ],
   "source": [
    "# Plot the count of each unique 'order_type_code' for zero 'value_quantity'\n",
    "plt.figure(figsize=(12, 8))\n",
    "zero_value_q_data['order_type_code'].value_counts().plot(kind='bar', color='skyblue')\n",
    "plt.title(\"Distribution of Order Type Codes with Zero Value in 'value_quantity'\")\n",
    "plt.xlabel(\"Order Type Code\")\n",
    "plt.ylabel(\"Frequency\")\n",
    "plt.xticks(rotation=45)\n",
    "plt.show()"
   ]
  },
  {
   "cell_type": "code",
   "execution_count": 113,
   "metadata": {},
   "outputs": [
    {
     "name": "stdout",
     "output_type": "stream",
     "text": [
      "Order Type Codes where value_sales, value_cost, and value_quantity are all zero:\n",
      "order_type_code\n",
      "CRD    208\n",
      "ZCR     13\n",
      "CRP     10\n",
      "PMO      3\n",
      "COP      1\n",
      "Name: count, dtype: int64\n"
     ]
    }
   ],
   "source": [
    "# Filter rows where value_sales, value_cost, and value_quantity are all zero\n",
    "zero_values_data = merged_data[\n",
    "    (merged_data['value_sales'] == 0) &\n",
    "    (merged_data['value_cost'] == 0) &\n",
    "    (merged_data['value_quantity'] == 0)\n",
    "]\n",
    "\n",
    "# Count the occurrences of each unique order_type_code\n",
    "order_type_code_counts = zero_values_data['order_type_code'].value_counts()\n",
    "\n",
    "# Display the results\n",
    "print(\"Order Type Codes where value_sales, value_cost, and value_quantity are all zero:\")\n",
    "print(order_type_code_counts)"
   ]
  },
  {
   "cell_type": "markdown",
   "metadata": {},
   "source": [
    "- If all three columns (value_sales, value_cost, and value_quantity) have a value of zero, it likely means that the transaction didn't result in any sales, cost, or quantity. This might indicate a canceled transaction, a placeholder entry, or data that was recorded without any real financial or quantitative impact\n",
    "- we decided to dropping rows with zero values in value_sales, value_cost, and value_quantity ensures data relevance, avoids distortion in aggregated metrics, maintains consistency in transaction records, and upholds data integrity. This approach helps your analysis reflect actual, meaningful transactions, leading to more accurate insights and decision-making."
   ]
  },
  {
   "cell_type": "code",
   "execution_count": 115,
   "metadata": {},
   "outputs": [
    {
     "name": "stdout",
     "output_type": "stream",
     "text": [
      "Order Type Codes where value_sales, value_cost, and value_quantity are all zero:\n",
      "Series([], Name: count, dtype: int64)\n"
     ]
    }
   ],
   "source": [
    "# Filter out rows where all three columns are zero\n",
    "merged_data = merged_data[\n",
    "    ~((merged_data['value_sales'] == 0) & \n",
    "      (merged_data['value_cost'] == 0) & \n",
    "      (merged_data['value_quantity'] == 0))\n",
    "]\n",
    "\n",
    "# Check the result to ensure rows are removed\n",
    "zero_values_data = merged_data[\n",
    "    (merged_data['value_sales'] == 0) &\n",
    "    (merged_data['value_cost'] == 0) &\n",
    "    (merged_data['value_quantity'] == 0)\n",
    "]\n",
    "\n",
    "# Count the occurrences of each unique order_type_code\n",
    "order_type_code_counts = zero_values_data['order_type_code'].value_counts()\n",
    "\n",
    "# Display the results\n",
    "print(\"Order Type Codes where value_sales, value_cost, and value_quantity are all zero:\")\n",
    "print(order_type_code_counts)"
   ]
  },
  {
   "cell_type": "code",
   "execution_count": 116,
   "metadata": {},
   "outputs": [
    {
     "name": "stdout",
     "output_type": "stream",
     "text": [
      "Number of rows where value_sales is less than value_cost: 148480\n"
     ]
    }
   ],
   "source": [
    "# Filter rows where value_sales is less than value_cost\n",
    "sales_less_than_cost = merged_data[merged_data['value_sales'] < merged_data['value_cost']]\n",
    "\n",
    "# Display the number of rows that meet this condition\n",
    "print(\"Number of rows where value_sales is less than value_cost:\", sales_less_than_cost.shape[0])"
   ]
  },
  {
   "cell_type": "code",
   "execution_count": 117,
   "metadata": {},
   "outputs": [
    {
     "name": "stdout",
     "output_type": "stream",
     "text": [
      "Order class Codes where value_sales is less than value_cost:\n",
      "abc_class_code\n",
      "J    57657\n",
      "D    26979\n",
      "A    16063\n",
      "U    13674\n",
      "B     9250\n",
      "C     8917\n",
      "G     8366\n",
      "E     3802\n",
      "I     3168\n",
      "F      604\n",
      "Name: count, dtype: int64\n"
     ]
    }
   ],
   "source": [
    "# Get the unique order_type_code values for rows where value_sales < value_cost\n",
    "order_class_code_counts = sales_less_than_cost['abc_class_code'].value_counts()\n",
    "\n",
    "# Display the result\n",
    "print(\"Order class Codes where value_sales is less than value_cost:\")\n",
    "print(order_class_code_counts)"
   ]
  },
  {
   "cell_type": "markdown",
   "metadata": {},
   "source": [
    "The rationale for considering the removal of rows where value_sales < value_cost for abc_class_code categories C, G, I, and F is as follows:\n",
    "\n",
    "- C (Low Sellers): This category consists of low-selling products. Selling these items at a loss may indicate inefficiency or business challenges, as these products typically shouldn't be sold below cost continuously.\n",
    "- G (Component with no usage): This category includes components with no usage. Selling these below cost may not add real value to the business and suggests that they are being sold at a loss without generating a clear benefit.\n",
    "- I (Indent Items - full lead time applies): Items that require full lead time to import, usually with higher associated costs due to import and storage. Selling these at a loss may be unwise, as they typically shouldn't be heavily discounted due to their import-related costs.\n",
    "- F (New Items <6 months old): Newly introduced items less than six months old are expected to sell at a profitable price, as they are fresh in the market. Selling them below cost may indicate improper pricing or valuation issues."
   ]
  },
  {
   "cell_type": "code",
   "execution_count": 119,
   "metadata": {},
   "outputs": [
    {
     "name": "stdout",
     "output_type": "stream",
     "text": [
      "Rows with price adjustment (value_price_adjustment = 1) where value_sales < value_cost for abc_class_code 'C': 3221\n",
      "Rows without price adjustment (value_price_adjustment = 0) where value_sales < value_cost for abc_class_code 'C': 5696\n",
      "\n",
      "\n",
      "Rows with price adjustment (value_price_adjustment = 1) where value_sales < value_cost for abc_class_code 'G': 5179\n",
      "Rows without price adjustment (value_price_adjustment = 0) where value_sales < value_cost for abc_class_code 'G': 3187\n",
      "\n",
      "\n",
      "Rows with price adjustment (value_price_adjustment = 1) where value_sales < value_cost for abc_class_code 'I': 731\n",
      "Rows without price adjustment (value_price_adjustment = 0) where value_sales < value_cost for abc_class_code 'I': 2437\n",
      "\n",
      "\n",
      "Rows with price adjustment (value_price_adjustment = 1) where value_sales < value_cost for abc_class_code 'F': 12\n",
      "Rows without price adjustment (value_price_adjustment = 0) where value_sales < value_cost for abc_class_code 'F': 592\n",
      "\n",
      "\n"
     ]
    }
   ],
   "source": [
    "# Define the categories to analyze\n",
    "categories_to_check = ['C', 'G', 'I', 'F']\n",
    "\n",
    "# Loop over each category and filter the data\n",
    "for category in categories_to_check:\n",
    "    # Filter rows where value_sales < value_cost and value_price_adjustment = 1 for each abc_class_code\n",
    "    price_adjustment_data = merged_data[\n",
    "        (merged_data['value_sales'] < merged_data['value_cost']) &\n",
    "        (merged_data['value_price_adjustment'] == 1) &\n",
    "        (merged_data['abc_class_code'] == category)\n",
    "    ]\n",
    "\n",
    "    # Filter rows where value_sales < value_cost and value_price_adjustment = 0 for each abc_class_code\n",
    "    no_price_adjustment_data = merged_data[\n",
    "        (merged_data['value_sales'] < merged_data['value_cost']) &\n",
    "        (merged_data['value_price_adjustment'] == 0) &\n",
    "        (merged_data['abc_class_code'] == category)\n",
    "    ]\n",
    "\n",
    "    # Display the counts\n",
    "    print(f\"Rows with price adjustment (value_price_adjustment = 1) where value_sales < value_cost for abc_class_code '{category}':\", price_adjustment_data.shape[0])\n",
    "    print(f\"Rows without price adjustment (value_price_adjustment = 0) where value_sales < value_cost for abc_class_code '{category}':\", no_price_adjustment_data.shape[0])\n",
    "    print(\"\\n\")\n"
   ]
  },
  {
   "cell_type": "markdown",
   "metadata": {},
   "source": [
    "Dropping rows where value_sales < value_cost and value_price_adjustment = 0 for specific abc_class_codes like ['C', 'G', 'I', 'F']\n",
    "- Removing rows with value_sales < value_cost and value_price_adjustment = 0 for specific product categories ensures that the dataset aligns with realistic business scenarios, enhances data quality, and prevents errors from impacting analysis and decision-making"
   ]
  },
  {
   "cell_type": "code",
   "execution_count": 121,
   "metadata": {},
   "outputs": [
    {
     "name": "stdout",
     "output_type": "stream",
     "text": [
      "Data shape after dropping rows: (1975442, 43)\n"
     ]
    }
   ],
   "source": [
    "# Define the categories to filter for dropping\n",
    "categories_to_drop = ['C', 'G', 'I', 'F']\n",
    "\n",
    "# Filter the rows to keep (i.e., those that don't meet the criteria for dropping)\n",
    "filtered_data = merged_data[\n",
    "    ~((merged_data['value_sales'] < merged_data['value_cost']) &\n",
    "      (merged_data['value_price_adjustment'] == 0) &\n",
    "      (merged_data['abc_class_code'].isin(categories_to_drop)))\n",
    "]\n",
    "\n",
    "# Assign the filtered data back to merged_data\n",
    "merged_data = filtered_data\n",
    "\n",
    "# Display the new shape of merged_data to confirm rows have been dropped\n",
    "print(\"Data shape after dropping rows:\", merged_data.shape)"
   ]
  },
  {
   "cell_type": "code",
   "execution_count": 122,
   "metadata": {},
   "outputs": [
    {
     "name": "stdout",
     "output_type": "stream",
     "text": [
      "Order Type Codes where value_sales is less than value_cost:\n",
      "order_type_code\n",
      "CRD    47209\n",
      "CRR    45019\n",
      "NOR    30759\n",
      "CDG    11781\n",
      "NOH     3339\n",
      "SPC     2740\n",
      "ZCG     1883\n",
      "ZCR     1402\n",
      "PMO     1025\n",
      "EXP      530\n",
      "CPR      519\n",
      "PRD      417\n",
      "PRO      345\n",
      "CRP      294\n",
      "AES      238\n",
      "PUP      232\n",
      "CSH      218\n",
      "5TN      217\n",
      "PPO      121\n",
      "NOS       78\n",
      "EDI       73\n",
      "MIN       13\n",
      "COA       12\n",
      "PSA       11\n",
      "WDC        2\n",
      "ZC2        1\n",
      "ZD3        1\n",
      "OBS        1\n",
      "Name: count, dtype: int64\n"
     ]
    }
   ],
   "source": [
    "# Get the unique order_type_code values for rows where value_sales < value_cost\n",
    "order_type_code_counts = sales_less_than_cost['order_type_code'].value_counts()\n",
    "\n",
    "# Display the result\n",
    "print(\"Order Type Codes where value_sales is less than value_cost:\")\n",
    "print(order_type_code_counts)"
   ]
  },
  {
   "cell_type": "code",
   "execution_count": 123,
   "metadata": {},
   "outputs": [
    {
     "data": {
      "text/plain": [
       "3584"
      ]
     },
     "execution_count": 123,
     "metadata": {},
     "output_type": "execute_result"
    }
   ],
   "source": [
    "# Filtering for rows where quantity is negative for normal orders (NOR, NOH, NOS)\n",
    "negative_quantity_normal_orders = merged_data[\n",
    "    (merged_data['order_type_code'].isin(['NOR', 'NOH', 'NOS'])) & \n",
    "    (merged_data['value_quantity'] < 0)\n",
    "]\n",
    "\n",
    "# Count the rows that meet this condition\n",
    "negative_quantity_count = negative_quantity_normal_orders.shape[0]\n",
    "negative_quantity_count"
   ]
  },
  {
   "cell_type": "markdown",
   "metadata": {},
   "source": [
    "For normal orders (NOR, NOH, NOS), in a typical business context, these orders should not have returns or negative quantities. These are straightforward purchases where the customer orders goods, and the transaction reflects normal sales figures. Generally, if there is a negative quantity in these types of orders"
   ]
  },
  {
   "cell_type": "code",
   "execution_count": 125,
   "metadata": {},
   "outputs": [
    {
     "data": {
      "text/plain": [
       "0"
      ]
     },
     "execution_count": 125,
     "metadata": {},
     "output_type": "execute_result"
    }
   ],
   "source": [
    "# Remove rows where quantity is negative in normal orders (NOR, NOH, NOS)\n",
    "merged_data = merged_data[\n",
    "    ~((merged_data['order_type_code'].isin(['NOR', 'NOH', 'NOS'])) & \n",
    "      (merged_data['value_quantity'] < 0))\n",
    "]\n",
    "\n",
    "# Filtering for rows where quantity is negative for normal orders (NOR, NOH, NOS)\n",
    "negative_quantity_normal_orders = merged_data[\n",
    "    (merged_data['order_type_code'].isin(['NOR', 'NOH', 'NOS'])) & \n",
    "    (merged_data['value_quantity'] < 0)\n",
    "]\n",
    "\n",
    "# Count the rows that meet this condition\n",
    "negative_quantity_count = negative_quantity_normal_orders.shape[0]\n",
    "negative_quantity_count"
   ]
  },
  {
   "cell_type": "code",
   "execution_count": 126,
   "metadata": {},
   "outputs": [
    {
     "data": {
      "image/png": "[encoded data removed]",
      "text/plain": [
       "<Figure size 1500x500 with 3 Axes>"
      ]
     },
     "metadata": {},
     "output_type": "display_data"
    }
   ],
   "source": [
    "# Set up the figure with a grid of 1x3 subplots\n",
    "fig, axes = plt.subplots(1, 3, figsize=(15, 5))\n",
    "\n",
    "# Plot the box plot for 'value_sales' in the first subplot\n",
    "merged_data['value_sales'].plot(kind='box', ax=axes[0])\n",
    "axes[0].set_title('Boxplot of value_sales')\n",
    "\n",
    "# Plot the box plot for 'value_cost' in the second subplot\n",
    "merged_data['value_cost'].plot(kind='box', ax=axes[1])\n",
    "axes[1].set_title('Boxplot of value_cost')\n",
    "\n",
    "# Plot the box plot for 'value_quantity' in the third subplot\n",
    "merged_data['value_quantity'].plot(kind='box', ax=axes[2])\n",
    "axes[2].set_title('Boxplot of value_quantity')\n",
    "\n",
    "# Adjust layout to prevent overlap\n",
    "plt.tight_layout()\n",
    "plt.show()"
   ]
  },
  {
   "cell_type": "code",
   "execution_count": 127,
   "metadata": {},
   "outputs": [
    {
     "name": "stdout",
     "output_type": "stream",
     "text": [
      "Extreme values in value_sales, value_cost, and value_quantity:\n",
      "         value_sales  value_cost  value_quantity order_type_code  \\\n",
      "51580   -765100.0000     -383.00            -5.0             CRR   \n",
      "51768    765100.0000      383.00             5.0             NOR   \n",
      "1683043  192388.9000   203595.15         89650.0             NOR   \n",
      "1858931  793541.9800   777669.20            11.0             NOR   \n",
      "1860865 -793541.9800        0.00             0.0             CRD   \n",
      "1860866  793541.9800   777669.20            11.0             NOR   \n",
      "1910302    1196.9964     1428.84        105000.0             EXP   \n",
      "\n",
      "        abc_class_code light_source  item_type  invoice_date  invoice_number  \\\n",
      "51580                J  Traditional          5      20120209         2182964   \n",
      "51768                J  Traditional          5      20120209         2182793   \n",
      "1683043              A  Traditional          7      20131220          841811   \n",
      "1858931              J  Accessories          5      20130828          824834   \n",
      "1860865              J  Accessories          5      20131030          644975   \n",
      "1860866              J  Accessories          5      20131030          834301   \n",
      "1910302              J  Accessories          7      20131106           10182   \n",
      "\n",
      "         value_price_adjustment  \n",
      "51580                         0  \n",
      "51768                         0  \n",
      "1683043                       0  \n",
      "1858931                       0  \n",
      "1860865                       1  \n",
      "1860866                       0  \n",
      "1910302                       0  \n"
     ]
    }
   ],
   "source": [
    "# Define extreme boundaries based on your boxplot\n",
    "extreme_sales_upper = 600000\n",
    "extreme_sales_lower = -600000\n",
    "extreme_cost_upper = 600000\n",
    "extreme_cost_lower = -600000\n",
    "extreme_quantity_upper = 80000\n",
    "extreme_quantity_lower = -80000\n",
    "\n",
    "# Filter rows that meet any of these extreme conditions\n",
    "extreme_rows = merged_data[\n",
    "    (merged_data['value_sales'] > extreme_sales_upper) | \n",
    "    (merged_data['value_sales'] < extreme_sales_lower) |\n",
    "    (merged_data['value_cost'] > extreme_cost_upper) | \n",
    "    (merged_data['value_cost'] < extreme_cost_lower) |\n",
    "    (merged_data['value_quantity'] > extreme_quantity_upper) | \n",
    "    (merged_data['value_quantity'] < extreme_quantity_lower)\n",
    "]\n",
    "\n",
    "# Display the rows with extreme outliers\n",
    "# Display only the selected columns with extreme outliers\n",
    "extreme_columns = extreme_rows[['value_sales', 'value_cost', 'value_quantity','order_type_code','abc_class_code','light_source','item_type','invoice_date','invoice_number','value_price_adjustment']]\n",
    "\n",
    "# Show the result\n",
    "print(\"Extreme values in value_sales, value_cost, and value_quantity:\")\n",
    "print(extreme_columns)\n"
   ]
  },
  {
   "cell_type": "markdown",
   "metadata": {},
   "source": [
    "## 5. Data Type Conversion\n",
    "- Ensure that each column has the appropriate data type (e.g., numeric, categorical, datetime).\n",
    "- Convert data types if needed (e.g., parsing date strings into datetime objects)."
   ]
  },
  {
   "cell_type": "code",
   "execution_count": 129,
   "metadata": {},
   "outputs": [
    {
     "name": "stdout",
     "output_type": "stream",
     "text": [
      "accounting_date             datetime64[ns]\n",
      "fiscal_year                          int64\n",
      "fiscal_month                         int64\n",
      "calendar_year                        int64\n",
      "calendar_month                       int64\n",
      "calendar_day                         int64\n",
      "company_code                         int64\n",
      "customer_code                       object\n",
      "customer_district_code               int64\n",
      "item_code                           object\n",
      "business_area_code                  object\n",
      "item_group_code                     object\n",
      "item_class_code                     object\n",
      "item_type                            int64\n",
      "bonus_group_code                    object\n",
      "environment_group_code              object\n",
      "technology_group_code               object\n",
      "commission_group_code               object\n",
      "reporting_classification            object\n",
      "light_source                        object\n",
      "warehouse_code                      object\n",
      "abc_class_code                      object\n",
      "abc_class_volume                    object\n",
      "business_chain_l1_code              object\n",
      "business_chain_l1_name              object\n",
      "contact_method_code                 object\n",
      "salesperson_code                    object\n",
      "order_type_code                     object\n",
      "market_segment                      object\n",
      "value_sales                        float64\n",
      "value_cost                         float64\n",
      "value_quantity                     float64\n",
      "value_price_adjustment               int64\n",
      "currency                            object\n",
      "invoice_number                       int64\n",
      "line_number                          int64\n",
      "invoice_date                         int64\n",
      "customer_order_number               object\n",
      "order_date                           int64\n",
      "dss_update_time                     object\n",
      "accounting_year                      int32\n",
      "accounting_month                     int32\n",
      "accounting_day                       int32\n",
      "dtype: object\n"
     ]
    }
   ],
   "source": [
    "# Check data types of each column\n",
    "print(merged_data.dtypes)"
   ]
  },
  {
   "cell_type": "markdown",
   "metadata": {},
   "source": [
    "- Datetime conversion improves flexibility for time-based analysis, enables accurate date calculations, and enhances data filtering."
   ]
  },
  {
   "cell_type": "code",
   "execution_count": 131,
   "metadata": {},
   "outputs": [],
   "source": [
    "merged_data['invoice_date'] = pd.to_datetime(merged_data['invoice_date'], format='%Y%m%d', errors='coerce')\n",
    "merged_data['order_date'] = pd.to_datetime(merged_data['order_date'], format='%Y%m%d', errors='coerce')"
   ]
  },
  {
   "cell_type": "markdown",
   "metadata": {},
   "source": [
    "- Categorical conversion reduces memory usage, speeds up processing, aids in machine learning, and maintains data integrity"
   ]
  },
  {
   "cell_type": "code",
   "execution_count": 133,
   "metadata": {},
   "outputs": [],
   "source": [
    "categorical_columns = [\n",
    "    'customer_code', 'item_code', 'business_area_code', 'item_group_code', 'item_class_code',\n",
    "    'bonus_group_code', 'environment_group_code', 'technology_group_code', 'commission_group_code',\n",
    "    'reporting_classification', 'light_source', 'warehouse_code', 'abc_class_code', 'business_chain_l1_code',\n",
    "    'business_chain_l1_name', 'contact_method_code', 'salesperson_code', 'order_type_code', 'market_segment', \n",
    "    'currency', 'customer_order_number'\n",
    "]\n",
    "merged_data[categorical_columns] = merged_data[categorical_columns].astype('category')"
   ]
  },
  {
   "cell_type": "code",
   "execution_count": 134,
   "metadata": {},
   "outputs": [
    {
     "name": "stdout",
     "output_type": "stream",
     "text": [
      "accounting_date             datetime64[ns]\n",
      "fiscal_year                          int64\n",
      "fiscal_month                         int64\n",
      "calendar_year                        int64\n",
      "calendar_month                       int64\n",
      "calendar_day                         int64\n",
      "company_code                         int64\n",
      "customer_code                     category\n",
      "customer_district_code               int64\n",
      "item_code                         category\n",
      "business_area_code                category\n",
      "item_group_code                   category\n",
      "item_class_code                   category\n",
      "item_type                            int64\n",
      "bonus_group_code                  category\n",
      "environment_group_code            category\n",
      "technology_group_code             category\n",
      "commission_group_code             category\n",
      "reporting_classification          category\n",
      "light_source                      category\n",
      "warehouse_code                    category\n",
      "abc_class_code                    category\n",
      "abc_class_volume                    object\n",
      "business_chain_l1_code            category\n",
      "business_chain_l1_name            category\n",
      "contact_method_code               category\n",
      "salesperson_code                  category\n",
      "order_type_code                   category\n",
      "market_segment                    category\n",
      "value_sales                        float64\n",
      "value_cost                         float64\n",
      "value_quantity                     float64\n",
      "value_price_adjustment               int64\n",
      "currency                          category\n",
      "invoice_number                       int64\n",
      "line_number                          int64\n",
      "invoice_date                datetime64[ns]\n",
      "customer_order_number             category\n",
      "order_date                  datetime64[ns]\n",
      "dss_update_time                     object\n",
      "accounting_year                      int32\n",
      "accounting_month                     int32\n",
      "accounting_day                       int32\n",
      "dtype: object\n"
     ]
    }
   ],
   "source": [
    "print(merged_data.dtypes)"
   ]
  },
  {
   "cell_type": "code",
   "execution_count": null,
   "metadata": {},
   "outputs": [],
   "source": []
  },
  {
   "cell_type": "code",
   "execution_count": null,
   "metadata": {},
   "outputs": [],
   "source": []
  },
  {
   "cell_type": "markdown",
   "metadata": {},
   "source": [
    "This result indicates that there are 3,373 rows\n",
    "- The order type is categorized as one of the \"normal orders\" (specifically, with order_type_code in ['NOR', 'NOH', 'NOS']).\n",
    "- The value_sales is less than value_cost, suggesting a financial loss or unusual pricing for these transactions.\n",
    "- The value_quantity is negative, which could imply a data entry error or a return of goods.\n",
    "This combination is 'unusual in a normal sales context', as typically, the sales value should exceed the cost, and the quantity should be non-negative in regular transactions. This finding might require further investigation or data cleaning to ensure the accuracy and integrity of the dataset."
   ]
  },
  {
   "cell_type": "markdown",
   "metadata": {},
   "source": [
    "## 6. Normalization and Scaling\n",
    "- Normalization: Rescale numerical data to fit within a particular range, often [0, 1].\n",
    "- Standardization: Adjust the data to have a mean of zero and a standard deviation of one, which is important for certain machine learning "
   ]
  },
  {
   "cell_type": "code",
   "execution_count": null,
   "metadata": {},
   "outputs": [],
   "source": []
  },
  {
   "cell_type": "markdown",
   "metadata": {},
   "source": [
    "## 7. Handling Categorical Variables\n",
    "- Convert categorical variables to numeric form if required for analysis (e.g., one-hot encoding).\n",
    "- Combine similar categories to reduce complexity (e.g., grouping rare categories together)."
   ]
  },
  {
   "cell_type": "code",
   "execution_count": null,
   "metadata": {},
   "outputs": [],
   "source": []
  },
  {
   "cell_type": "markdown",
   "metadata": {},
   "source": [
    "## 8. Feature Engineering\n",
    "- Creating New Features: Generate new variables based on existing ones to capture additional insights.\n",
    "- Dropping Irrelevant Features: Remove features that do not add value or are highly correlated, to avoid multicollinearity."
   ]
  },
  {
   "cell_type": "code",
   "execution_count": null,
   "metadata": {},
   "outputs": [],
   "source": []
  },
  {
   "cell_type": "markdown",
   "metadata": {},
   "source": [
    "## 9. Text Cleaning (for Textual Data)\n",
    "- For textual data, cleaning involves removing punctuation, converting to lowercase, removing stopwords, and stemming or lemmatizing words to bring them to their root form."
   ]
  },
  {
   "cell_type": "code",
   "execution_count": null,
   "metadata": {},
   "outputs": [],
   "source": []
  },
  {
   "cell_type": "markdown",
   "metadata": {},
   "source": []
  }
 ],
 "metadata": {
  "kernelspec": {
   "display_name": "Python 3 (ipykernel)",
   "language": "python",
   "name": "python3"
  },
  "language_info": {
   "codemirror_mode": {
    "name": "ipython",
    "version": 3
   },
   "file_extension": ".py",
   "mimetype": "text/x-python",
   "name": "python",
   "nbconvert_exporter": "python",
   "pygments_lexer": "ipython3",
   "version": "3.12.4"
  }
 },
 "nbformat": 4,
 "nbformat_minor": 4
}
