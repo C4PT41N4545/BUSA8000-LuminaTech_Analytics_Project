{
 "cells": [
  {
   "cell_type": "markdown",
   "metadata": {},
   "source": [
    "# Exploratory Data Analysis"
   ]
  },
  {
   "cell_type": "markdown",
   "metadata": {},
   "source": [
    "1. Understanding Data Structure:\n",
    "\n",
    "- Examine data types, column names, and dataset size.\n",
    "- Check how the data is organized—categorical vs. numerical features, distribution, and relationships.\n",
    "2. Handling Missing Values:\n",
    "\n",
    "- Determine the presence and extent of missing values.\n",
    "- Visualize or summarize missing data to understand patterns.\n",
    "- Decide on strategies to handle missing data (e.g., imputation, removal).\n",
    "3. Summary Statistics:\n",
    "\n",
    "- Generate summary statistics (mean, median, standard deviation, quartiles) to understand the central tendency and dispersion of numerical data.\n",
    "- Use frequency counts for categorical features to understand distributions.\n",
    "4. Identifying Outliers:\n",
    "\n",
    "- Outliers can be identified through visualizations (e.g., boxplots) or statistical methods.\n",
    "- Outliers may be errors or valuable indicators, and understanding them is critical for further analysis.\n",
    "5. Visualizing Distributions:\n",
    "\n",
    "- Plot histograms, boxplots, and density plots to visualize the distribution of numerical variables.\n",
    "- These help you understand the shape of the data (e.g., normal, skewed).\n",
    "6. Analyzing Relationships:\n",
    "\n",
    "- Use scatterplots, pair plots, or correlation matrices to understand relationships between variables.\n",
    "- This step helps identify collinear features, which could influence model performance.\n",
    "7. Feature Analysis:\n",
    "\n",
    "- Look at each feature individually (univariate analysis) to see its specific impact.\n",
    "- Use bivariate or multivariate analysis to see relationships among features, which can help in understanding how variables interact.\n",
    "8. Identifying Data Quality Issues:\n",
    "\n",
    "- Look for errors such as inconsistencies, duplicates, or data entry mistakes.\n",
    "- This process helps identify problems to fix during data cleaning."
   ]
  },
  {
   "cell_type": "code",
   "execution_count": 1,
   "metadata": {},
   "outputs": [],
   "source": [
    "#import lib\n",
    "import numpy as np\n",
    "import pandas as pd\n",
    "from matplotlib import pyplot as plt \n",
    "import seaborn as sns"
   ]
  },
  {
   "cell_type": "markdown",
   "metadata": {},
   "source": [
    "## 1. Understanding Data Structure:\n",
    "\n",
    "- Examine data types, column names, and dataset size.\n",
    "- Check how the data is organized—categorical vs. numerical features, distribution, and relationships."
   ]
  },
  {
   "cell_type": "code",
   "execution_count": 3,
   "metadata": {},
   "outputs": [
    {
     "name": "stderr",
     "output_type": "stream",
     "text": [
      "C:\\Users\\Warin\\AppData\\Local\\Temp\\ipykernel_10468\\875980441.py:1: DtypeWarning: Columns (7,9) have mixed types. Specify dtype option on import or set low_memory=False.\n",
      "  df = pd.read_csv(\"../data/raw/2012_Data.csv\", encoding='unicode_escape')\n"
     ]
    }
   ],
   "source": [
    "df = pd.read_csv(\"../data/raw/2012_Data.csv\", encoding='unicode_escape')"
   ]
  },
  {
   "cell_type": "code",
   "execution_count": 9,
   "metadata": {},
   "outputs": [
    {
     "name": "stdout",
     "output_type": "stream",
     "text": [
      "rows: 1,037,205 | columns: 41\n"
     ]
    },
    {
     "data": {
      "text/html": [
       "<div>\n",
       "<style scoped>\n",
       "    .dataframe tbody tr th:only-of-type {\n",
       "        vertical-align: middle;\n",
       "    }\n",
       "\n",
       "    .dataframe tbody tr th {\n",
       "        vertical-align: top;\n",
       "    }\n",
       "\n",
       "    .dataframe thead th {\n",
       "        text-align: right;\n",
       "    }\n",
       "</style>\n",
       "<table border=\"1\" class=\"dataframe\">\n",
       "  <thead>\n",
       "    <tr style=\"text-align: right;\">\n",
       "      <th></th>\n",
       "      <th>accounting_date</th>\n",
       "      <th>fiscal_year</th>\n",
       "      <th>fiscal_month</th>\n",
       "      <th>calendar_year</th>\n",
       "      <th>calendar_month</th>\n",
       "      <th>calendar_day</th>\n",
       "      <th>company_code</th>\n",
       "      <th>customer_code</th>\n",
       "      <th>customer_district_code</th>\n",
       "      <th>item_code</th>\n",
       "      <th>...</th>\n",
       "      <th>value_quantity</th>\n",
       "      <th>value_price_adjustment</th>\n",
       "      <th>currency</th>\n",
       "      <th>item_source_class</th>\n",
       "      <th>invoice_number</th>\n",
       "      <th>line_number</th>\n",
       "      <th>invoice_date</th>\n",
       "      <th>customer_order_number</th>\n",
       "      <th>order_date</th>\n",
       "      <th>dss_update_time</th>\n",
       "    </tr>\n",
       "  </thead>\n",
       "  <tbody>\n",
       "    <tr>\n",
       "      <th>0</th>\n",
       "      <td>20120509</td>\n",
       "      <td>2012</td>\n",
       "      <td>11</td>\n",
       "      <td>2012</td>\n",
       "      <td>5</td>\n",
       "      <td>9</td>\n",
       "      <td>101</td>\n",
       "      <td>411800601</td>\n",
       "      <td>410</td>\n",
       "      <td>GENIE8WWWBC</td>\n",
       "      <td>...</td>\n",
       "      <td>84.0</td>\n",
       "      <td>0</td>\n",
       "      <td>AUD</td>\n",
       "      <td>NaN</td>\n",
       "      <td>2217887</td>\n",
       "      <td>1</td>\n",
       "      <td>20120509</td>\n",
       "      <td>2865354</td>\n",
       "      <td>20120509</td>\n",
       "      <td>49:58.7</td>\n",
       "    </tr>\n",
       "    <tr>\n",
       "      <th>1</th>\n",
       "      <td>20120216</td>\n",
       "      <td>2012</td>\n",
       "      <td>8</td>\n",
       "      <td>2012</td>\n",
       "      <td>2</td>\n",
       "      <td>16</td>\n",
       "      <td>101</td>\n",
       "      <td>361000403</td>\n",
       "      <td>300</td>\n",
       "      <td>GENIE8WWWBC</td>\n",
       "      <td>...</td>\n",
       "      <td>12.0</td>\n",
       "      <td>0</td>\n",
       "      <td>AUD</td>\n",
       "      <td>NaN</td>\n",
       "      <td>2185745</td>\n",
       "      <td>1</td>\n",
       "      <td>20120216</td>\n",
       "      <td>2833515</td>\n",
       "      <td>20120216</td>\n",
       "      <td>49:58.7</td>\n",
       "    </tr>\n",
       "    <tr>\n",
       "      <th>2</th>\n",
       "      <td>20120509</td>\n",
       "      <td>2012</td>\n",
       "      <td>11</td>\n",
       "      <td>2012</td>\n",
       "      <td>5</td>\n",
       "      <td>9</td>\n",
       "      <td>101</td>\n",
       "      <td>361000403</td>\n",
       "      <td>300</td>\n",
       "      <td>GENIE8WWWBC</td>\n",
       "      <td>...</td>\n",
       "      <td>12.0</td>\n",
       "      <td>0</td>\n",
       "      <td>AUD</td>\n",
       "      <td>NaN</td>\n",
       "      <td>2217807</td>\n",
       "      <td>1</td>\n",
       "      <td>20120509</td>\n",
       "      <td>2864857</td>\n",
       "      <td>20120508</td>\n",
       "      <td>49:58.7</td>\n",
       "    </tr>\n",
       "    <tr>\n",
       "      <th>3</th>\n",
       "      <td>20120518</td>\n",
       "      <td>2012</td>\n",
       "      <td>11</td>\n",
       "      <td>2012</td>\n",
       "      <td>5</td>\n",
       "      <td>18</td>\n",
       "      <td>101</td>\n",
       "      <td>565540415</td>\n",
       "      <td>500</td>\n",
       "      <td>GENIE8WWWBC</td>\n",
       "      <td>...</td>\n",
       "      <td>6.0</td>\n",
       "      <td>0</td>\n",
       "      <td>AUD</td>\n",
       "      <td>NaN</td>\n",
       "      <td>2222758</td>\n",
       "      <td>1</td>\n",
       "      <td>20120518</td>\n",
       "      <td>2869759</td>\n",
       "      <td>20120518</td>\n",
       "      <td>49:58.7</td>\n",
       "    </tr>\n",
       "    <tr>\n",
       "      <th>4</th>\n",
       "      <td>20120109</td>\n",
       "      <td>2012</td>\n",
       "      <td>7</td>\n",
       "      <td>2012</td>\n",
       "      <td>1</td>\n",
       "      <td>9</td>\n",
       "      <td>101</td>\n",
       "      <td>565540415</td>\n",
       "      <td>500</td>\n",
       "      <td>GENIE8WWWBC</td>\n",
       "      <td>...</td>\n",
       "      <td>6.0</td>\n",
       "      <td>0</td>\n",
       "      <td>AUD</td>\n",
       "      <td>NaN</td>\n",
       "      <td>2170374</td>\n",
       "      <td>1</td>\n",
       "      <td>20120109</td>\n",
       "      <td>2819189</td>\n",
       "      <td>20120109</td>\n",
       "      <td>49:58.7</td>\n",
       "    </tr>\n",
       "  </tbody>\n",
       "</table>\n",
       "<p>5 rows × 41 columns</p>\n",
       "</div>"
      ],
      "text/plain": [
       "   accounting_date  fiscal_year  fiscal_month  calendar_year  calendar_month  \\\n",
       "0         20120509         2012            11           2012               5   \n",
       "1         20120216         2012             8           2012               2   \n",
       "2         20120509         2012            11           2012               5   \n",
       "3         20120518         2012            11           2012               5   \n",
       "4         20120109         2012             7           2012               1   \n",
       "\n",
       "   calendar_day  company_code customer_code  customer_district_code  \\\n",
       "0             9           101     411800601                     410   \n",
       "1            16           101     361000403                     300   \n",
       "2             9           101     361000403                     300   \n",
       "3            18           101     565540415                     500   \n",
       "4             9           101     565540415                     500   \n",
       "\n",
       "                        item_code  ... value_quantity value_price_adjustment  \\\n",
       "0  GENIE8WWWBC                     ...           84.0                      0   \n",
       "1  GENIE8WWWBC                     ...           12.0                      0   \n",
       "2  GENIE8WWWBC                     ...           12.0                      0   \n",
       "3  GENIE8WWWBC                     ...            6.0                      0   \n",
       "4  GENIE8WWWBC                     ...            6.0                      0   \n",
       "\n",
       "  currency  item_source_class invoice_number line_number invoice_date  \\\n",
       "0      AUD                NaN        2217887           1     20120509   \n",
       "1      AUD                NaN        2185745           1     20120216   \n",
       "2      AUD                NaN        2217807           1     20120509   \n",
       "3      AUD                NaN        2222758           1     20120518   \n",
       "4      AUD                NaN        2170374           1     20120109   \n",
       "\n",
       "  customer_order_number order_date dss_update_time  \n",
       "0               2865354   20120509         49:58.7  \n",
       "1               2833515   20120216         49:58.7  \n",
       "2               2864857   20120508         49:58.7  \n",
       "3               2869759   20120518         49:58.7  \n",
       "4               2819189   20120109         49:58.7  \n",
       "\n",
       "[5 rows x 41 columns]"
      ]
     },
     "execution_count": 9,
     "metadata": {},
     "output_type": "execute_result"
    }
   ],
   "source": [
    "#show data shape\n",
    "print(f\"rows: {df.shape[0]:,} | columns: {df.shape[1]}\")\n",
    "#show first five rows\n",
    "df.head()\n"
   ]
  },
  {
   "cell_type": "markdown",
   "metadata": {},
   "source": [
    "| Field Name              | Data Type       | Description                                                                                   |\n",
    "|-------------------------|-----------------|-----------------------------------------------------------------------------------------------|\n",
    "| accounting_date         | Date            | The date when the financial transaction is recorded in the accounting system.                |\n",
    "| fiscal_year             | Integer         | The year in which the transaction occurs, based on the company's fiscal calendar.            |\n",
    "| fiscal_month            | Integer         | The month of the fiscal year during which the transaction takes place.                       |\n",
    "| calendar_year           | Integer         | The year in which the transaction occurs, based on the standard calendar.                    |\n",
    "| calendar_month          | Integer         | The month of the year during which the transaction takes place, based on the standard calendar. |\n",
    "| calendar_day            | Integer         | The specific day of the month on which the transaction occurs.                               |\n",
    "| company_code            | String          | A unique identifier for the company conducting the transaction.                              |\n",
    "| customer_code           | String          | A unique identifier for the customer involved in the transaction.                            |\n",
    "| customer_district_code  | String          | A code representing the geographical district of the customer.                               |\n",
    "| item_code               | String          | A unique identifier for the item being sold.                                                 |\n",
    "| business_area_code      | String          | A code representing the specific area of business related to the transaction.                |\n",
    "| item_group_code         | String          | A code indicating the group to which the item belongs.                                       |\n",
    "| item_class_code         | String          | A code categorizing the item based on its characteristics or type.                           |\n",
    "| item_type               | String          | A descriptor indicating the nature or category of the item.                                  |\n",
    "| bonus_group_code        | String          | A code identifying the group related to bonuses or incentives for sales.                     |\n",
    "| environment_group_code  | String          | A code denoting the environmental category related to the product.                           |\n",
    "| technology_group_code   | String          | A code representing the technology category associated with the item or service.             |\n",
    "| commission_group_code   | String          | A code identifying the group that determines commission structures for sales.                |\n",
    "| reporting_classification| String          | A classification used for reporting purposes, indicating how the transaction should be categorized. |\n",
    "| light_source            | String          | A code indicating the source of lighting related to the item, if applicable.                 |\n",
    "| warehouse_code          | String          | A code identifying the warehouse where the item is stored or shipped from.                   |\n",
    "| abc_class_code          | String          | A classification code used in inventory management to indicate the importance of an item (e.g., A, B, C categories). |\n",
    "| abc_class_volume        | Float           | The volume of goods associated with the ABC classification.                                  |\n",
    "| business_chain_l1_code  | String          | A code representing the first level of the business chain for tracking and analysis.          |\n",
    "| business_chain_l1_name  | String          | The name corresponding to the business chain level 1 code.                                   |\n",
    "| contact_method_code     | String          | A code indicating the contact used.                                                          |\n",
    "| salesperson_code        | String          | A unique identifier for the salesperson associated with the transaction.                     |\n",
    "| order_type_code         | String          | A code that categorizes the type of order.                                                   |\n",
    "| market_segment          | String          | A descriptor of the specific market segment targeted by the transaction.                     |\n",
    "| value_sales             | Float           | The monetary value of sales generated from the transaction.                                  |\n",
    "| value_cost              | Float           | The cost associated with the transaction.                                                    |\n",
    "| value_quantity          | Integer         | The quantity of items sold or transacted.                                                    |\n",
    "| value_price_adjustment  | Float           | Any adjustments made to the price during the transaction (discounts, surcharges, etc.).      |\n",
    "| currency                | String          | The currency in which the transaction is conducted.                                          |\n",
    "| item_source_class       | String          | A classification indicating the source or origin of the item.                                |\n",
    "| invoice_number          | String          | A unique identifier for the invoice related to the transaction.                              |\n",
    "| line_number             | Integer         | The line item number on the invoice, indicating specific items.                              |\n",
    "| invoice_date            | Date            | The date the invoice is issued.                                                              |\n",
    "| customer_order_number   | String          | A unique identifier for the customer's order.                                                |\n",
    "| order_date              | Date            | The date when the order was placed.                                                          |\n",
    "| dss_update_time         | Timestamp       | The timestamp indicating when the data was last updated in the system.                       |\n",
    "\n"
   ]
  },
  {
   "cell_type": "code",
   "execution_count": 12,
   "metadata": {},
   "outputs": [
    {
     "name": "stdout",
     "output_type": "stream",
     "text": [
      "count object column = 22\n",
      "count numerical column = 19\n"
     ]
    }
   ],
   "source": [
    "# count object variables\n",
    "num_obj = df.select_dtypes('object').shape\n",
    "print(f\"count object column = {num_obj[1]}\")\n",
    "#count numerical variables\n",
    "num_numerical = df.select_dtypes(exclude='object').shape\n",
    "print(f\"count numerical column = {num_numerical[1]}\")\n"
   ]
  },
  {
   "cell_type": "code",
   "execution_count": 13,
   "metadata": {},
   "outputs": [
    {
     "name": "stdout",
     "output_type": "stream",
     "text": [
      "<class 'pandas.core.frame.DataFrame'>\n",
      "RangeIndex: 1037205 entries, 0 to 1037204\n",
      "Data columns (total 41 columns):\n",
      " #   Column                    Non-Null Count    Dtype  \n",
      "---  ------                    --------------    -----  \n",
      " 0   accounting_date           1037205 non-null  int64  \n",
      " 1   fiscal_year               1037205 non-null  int64  \n",
      " 2   fiscal_month              1037205 non-null  int64  \n",
      " 3   calendar_year             1037205 non-null  int64  \n",
      " 4   calendar_month            1037205 non-null  int64  \n",
      " 5   calendar_day              1037205 non-null  int64  \n",
      " 6   company_code              1037205 non-null  int64  \n",
      " 7   customer_code             1037205 non-null  object \n",
      " 8   customer_district_code    1037205 non-null  int64  \n",
      " 9   item_code                 1037205 non-null  object \n",
      " 10  business_area_code        1037205 non-null  object \n",
      " 11  item_group_code           1037205 non-null  object \n",
      " 12  item_class_code           1037205 non-null  object \n",
      " 13  item_type                 1037205 non-null  int64  \n",
      " 14  bonus_group_code          1037205 non-null  object \n",
      " 15  environment_group_code    1037205 non-null  object \n",
      " 16  technology_group_code     1037205 non-null  object \n",
      " 17  commission_group_code     1037205 non-null  object \n",
      " 18  reporting_classification  1037205 non-null  object \n",
      " 19  light_source              1037205 non-null  object \n",
      " 20  warehouse_code            1037205 non-null  object \n",
      " 21  abc_class_code            1037205 non-null  object \n",
      " 22  abc_class_volume          1037205 non-null  object \n",
      " 23  business_chain_l1_code    1037205 non-null  object \n",
      " 24  business_chain_l1_name    1037205 non-null  object \n",
      " 25  contact_method_code       1037205 non-null  object \n",
      " 26  salesperson_code          1037205 non-null  object \n",
      " 27  order_type_code           1037205 non-null  object \n",
      " 28  market_segment            1037205 non-null  object \n",
      " 29  value_sales               1037205 non-null  float64\n",
      " 30  value_cost                1037205 non-null  float64\n",
      " 31  value_quantity            1037205 non-null  float64\n",
      " 32  value_price_adjustment    1037205 non-null  int64  \n",
      " 33  currency                  1037205 non-null  object \n",
      " 34  item_source_class         0 non-null        float64\n",
      " 35  invoice_number            1037205 non-null  int64  \n",
      " 36  line_number               1037205 non-null  int64  \n",
      " 37  invoice_date              1037205 non-null  int64  \n",
      " 38  customer_order_number     1037205 non-null  int64  \n",
      " 39  order_date                1037205 non-null  int64  \n",
      " 40  dss_update_time           1037205 non-null  object \n",
      "dtypes: float64(4), int64(15), object(22)\n",
      "memory usage: 324.4+ MB\n"
     ]
    }
   ],
   "source": [
    "df.info()"
   ]
  },
  {
   "cell_type": "markdown",
   "metadata": {},
   "source": [
    "## 2. Handling Missing Values:\n",
    "\n",
    "- Determine the presence and extent of missing values.\n",
    "- Visualize or summarize missing data to understand patterns.\n",
    "- Decide on strategies to handle missing data (e.g., imputation, removal)."
   ]
  },
  {
   "cell_type": "code",
   "execution_count": null,
   "metadata": {},
   "outputs": [],
   "source": []
  },
  {
   "cell_type": "markdown",
   "metadata": {},
   "source": [
    "## 3. Summary Statistics:\n",
    "\n",
    "- Generate summary statistics (mean, median, standard deviation, quartiles) to understand the central tendency and dispersion of numerical data.\n",
    "- Use frequency counts for categorical features to understand distributions."
   ]
  },
  {
   "cell_type": "code",
   "execution_count": null,
   "metadata": {},
   "outputs": [],
   "source": []
  },
  {
   "cell_type": "markdown",
   "metadata": {},
   "source": [
    "## 4. Identifying Outliers:\n",
    "\n",
    "- Outliers can be identified through visualizations (e.g., boxplots) or statistical methods.\n",
    "- Outliers may be errors or valuable indicators, and understanding them is critical for further analysis."
   ]
  },
  {
   "cell_type": "code",
   "execution_count": null,
   "metadata": {},
   "outputs": [],
   "source": []
  },
  {
   "cell_type": "markdown",
   "metadata": {},
   "source": [
    "## 5. Visualizing Distributions:\n",
    "\n",
    "- Plot histograms, boxplots, and density plots to visualize the distribution of numerical variables.\n",
    "- These help you understand the shape of the data (e.g., normal, skewed)."
   ]
  },
  {
   "cell_type": "code",
   "execution_count": null,
   "metadata": {},
   "outputs": [],
   "source": []
  },
  {
   "cell_type": "markdown",
   "metadata": {},
   "source": [
    "## 6. Analyzing Relationships:\n",
    "\n",
    "- Use scatterplots, pair plots, or correlation matrices to understand relationships between variables.\n",
    "- This step helps identify collinear features, which could influence model performance."
   ]
  },
  {
   "cell_type": "code",
   "execution_count": null,
   "metadata": {},
   "outputs": [],
   "source": []
  },
  {
   "cell_type": "markdown",
   "metadata": {},
   "source": [
    "## 7. Feature Analysis:\n",
    "\n",
    "- Look at each feature individually (univariate analysis) to see its specific impact.\n",
    "- Use bivariate or multivariate analysis to see relationships among features, which can help in understanding how variables interact."
   ]
  },
  {
   "cell_type": "code",
   "execution_count": null,
   "metadata": {},
   "outputs": [],
   "source": []
  },
  {
   "cell_type": "markdown",
   "metadata": {},
   "source": [
    "## 8. Identifying Data Quality Issues:\n",
    "\n",
    "- Look for errors such as inconsistencies, duplicates, or data entry mistakes.\n",
    "- This process helps identify problems to fix during data cleaning."
   ]
  },
  {
   "cell_type": "code",
   "execution_count": null,
   "metadata": {},
   "outputs": [],
   "source": []
  }
 ],
 "metadata": {
  "kernelspec": {
   "display_name": "BUSA8000",
   "language": "python",
   "name": "python3"
  },
  "language_info": {
   "codemirror_mode": {
    "name": "ipython",
    "version": 3
   },
   "file_extension": ".py",
   "mimetype": "text/x-python",
   "name": "python",
   "nbconvert_exporter": "python",
   "pygments_lexer": "ipython3",
   "version": "3.10.14"
  }
 },
 "nbformat": 4,
 "nbformat_minor": 2
}
